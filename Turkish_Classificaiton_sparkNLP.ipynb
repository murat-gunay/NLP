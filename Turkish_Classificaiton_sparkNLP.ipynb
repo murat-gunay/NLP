{
  "nbformat": 4,
  "nbformat_minor": 0,
  "metadata": {
    "colab": {
      "name": "Turkish_Classificaiton_sparkNLP.ipynb",
      "provenance": [],
      "authorship_tag": "ABX9TyNg1eFvpk9S8N3QF+cAwmgR",
      "include_colab_link": true
    },
    "kernelspec": {
      "name": "python3",
      "display_name": "Python 3"
    }
  },
  "cells": [
    {
      "cell_type": "markdown",
      "metadata": {
        "id": "view-in-github",
        "colab_type": "text"
      },
      "source": [
        "<a href=\"https://colab.research.google.com/github/murat-gunay/NLP/blob/master/Turkish_Classificaiton_sparkNLP.ipynb\" target=\"_parent\"><img src=\"https://colab.research.google.com/assets/colab-badge.svg\" alt=\"Open In Colab\"/></a>"
      ]
    },
    {
      "cell_type": "markdown",
      "metadata": {
        "id": "u4_9JboFuRqY"
      },
      "source": [
        "# Classification of the Text in Turkish using Spark NLP"
      ]
    },
    {
      "cell_type": "markdown",
      "metadata": {
        "id": "7WXrXp2tufyP"
      },
      "source": [
        "## Initializing of PySpark"
      ]
    },
    {
      "cell_type": "code",
      "metadata": {
        "id": "PkG0L-e6_Nk8",
        "outputId": "ccb96d32-4442-445f-fdec-b1b7e492ed0b",
        "colab": {
          "base_uri": "https://localhost:8080/",
          "height": 390
        }
      },
      "source": [
        "import os\n",
        "\n",
        "# Install java\n",
        "! apt-get update -qq\n",
        "! apt-get install -y openjdk-8-jdk-headless -qq > /dev/null\n",
        "\n",
        "os.environ[\"JAVA_HOME\"] = \"/usr/lib/jvm/java-8-openjdk-amd64\"\n",
        "os.environ[\"PATH\"] = os.environ[\"JAVA_HOME\"] + \"/bin:\" + os.environ[\"PATH\"]\n",
        "! java -version\n",
        "\n",
        "# Install pyspark\n",
        "! pip install --ignore-installed pyspark==2.4.4\n",
        "\n",
        "# Install Spark NLP\n",
        "! pip install --ignore-installed spark-nlp"
      ],
      "execution_count": 3,
      "outputs": [
        {
          "output_type": "stream",
          "text": [
            "openjdk version \"1.8.0_265\"\n",
            "OpenJDK Runtime Environment (build 1.8.0_265-8u265-b01-0ubuntu2~18.04-b01)\n",
            "OpenJDK 64-Bit Server VM (build 25.265-b01, mixed mode)\n",
            "Collecting pyspark==2.4.4\n",
            "\u001b[?25l  Downloading https://files.pythonhosted.org/packages/87/21/f05c186f4ddb01d15d0ddc36ef4b7e3cedbeb6412274a41f26b55a650ee5/pyspark-2.4.4.tar.gz (215.7MB)\n",
            "\u001b[K     |████████████████████████████████| 215.7MB 59kB/s \n",
            "\u001b[?25hCollecting py4j==0.10.7\n",
            "\u001b[?25l  Downloading https://files.pythonhosted.org/packages/e3/53/c737818eb9a7dc32a7cd4f1396e787bd94200c3997c72c1dbe028587bd76/py4j-0.10.7-py2.py3-none-any.whl (197kB)\n",
            "\u001b[K     |████████████████████████████████| 204kB 42.2MB/s \n",
            "\u001b[?25hBuilding wheels for collected packages: pyspark\n",
            "  Building wheel for pyspark (setup.py) ... \u001b[?25l\u001b[?25hdone\n",
            "  Created wheel for pyspark: filename=pyspark-2.4.4-py2.py3-none-any.whl size=216130389 sha256=27f0076af58799f8f88a270142ef6648c131948b79e07ac7da7e3d522e8a6086\n",
            "  Stored in directory: /root/.cache/pip/wheels/ab/09/4d/0d184230058e654eb1b04467dbc1292f00eaa186544604b471\n",
            "Successfully built pyspark\n",
            "Installing collected packages: py4j, pyspark\n",
            "Successfully installed py4j-0.10.7 pyspark-2.4.4\n",
            "Collecting spark-nlp\n",
            "\u001b[?25l  Downloading https://files.pythonhosted.org/packages/f1/de/6db7be666e7c8b70d39bcb0d956d3d983bcb06ea3895308c84d7a131dfb1/spark_nlp-2.6.2-py2.py3-none-any.whl (128kB)\n",
            "\u001b[K     |████████████████████████████████| 133kB 2.6MB/s \n",
            "\u001b[?25hInstalling collected packages: spark-nlp\n",
            "Successfully installed spark-nlp-2.6.2\n"
          ],
          "name": "stdout"
        }
      ]
    },
    {
      "cell_type": "markdown",
      "metadata": {
        "id": "GBwi1G5Quus4"
      },
      "source": [
        "## Starting of SparkNLP Session"
      ]
    },
    {
      "cell_type": "code",
      "metadata": {
        "id": "fk90GIqb_ot_",
        "outputId": "0215eb95-c500-49ee-fd9a-4b86660cac3d",
        "colab": {
          "base_uri": "https://localhost:8080/",
          "height": 35
        }
      },
      "source": [
        "import sparknlp\n",
        "spark = sparknlp.start()\n",
        "sparknlp.version()\n",
        "spark.version"
      ],
      "execution_count": 4,
      "outputs": [
        {
          "output_type": "execute_result",
          "data": {
            "application/vnd.google.colaboratory.intrinsic+json": {
              "type": "string"
            },
            "text/plain": [
              "'2.4.4'"
            ]
          },
          "metadata": {
            "tags": []
          },
          "execution_count": 4
        }
      ]
    },
    {
      "cell_type": "code",
      "metadata": {
        "id": "C0uNJ_S5_6uI"
      },
      "source": [
        "from pyspark.ml import Pipeline\n",
        "\n",
        "from sparknlp.annotator import *\n",
        "from sparknlp.common import *\n",
        "from sparknlp.base import *\n",
        "#from sparknlp.embeddings import *"
      ],
      "execution_count": 5,
      "outputs": []
    },
    {
      "cell_type": "markdown",
      "metadata": {
        "id": "o1dlMl4ZuJmA"
      },
      "source": [
        "## Loading and Reading the DataSet"
      ]
    },
    {
      "cell_type": "code",
      "metadata": {
        "id": "esO7pi3ei_zV",
        "outputId": "9a66dea9-2d75-4cb0-f406-2bbfe2e38a90",
        "colab": {
          "base_uri": "https://localhost:8080/",
          "height": 222
        }
      },
      "source": [
        "! wget https://raw.githubusercontent.com/murat-gunay/NLP/master/02_NLP_Projects/2-project_2_Turkish_sparkNLP_Classification/turkish_categorical_corpus.csv"
      ],
      "execution_count": 7,
      "outputs": [
        {
          "output_type": "stream",
          "text": [
            "--2020-10-01 19:03:20--  https://raw.githubusercontent.com/murat-gunay/NLP/master/02_NLP_Projects/2-project_2_Turkish_sparkNLP_Classification/turkish_categorical_corpus.csv\n",
            "Resolving raw.githubusercontent.com (raw.githubusercontent.com)... 151.101.0.133, 151.101.64.133, 151.101.128.133, ...\n",
            "Connecting to raw.githubusercontent.com (raw.githubusercontent.com)|151.101.0.133|:443... connected.\n",
            "HTTP request sent, awaiting response... 200 OK\n",
            "Length: 10627541 (10M) [text/plain]\n",
            "Saving to: ‘turkish_categorical_corpus.csv’\n",
            "\n",
            "turkish_categorical 100%[===================>]  10.13M  19.7MB/s    in 0.5s    \n",
            "\n",
            "2020-10-01 19:03:21 (19.7 MB/s) - ‘turkish_categorical_corpus.csv’ saved [10627541/10627541]\n",
            "\n"
          ],
          "name": "stdout"
        }
      ]
    },
    {
      "cell_type": "code",
      "metadata": {
        "id": "Wplqo9HOjL_F"
      },
      "source": [
        "df_Spark = spark.read \\\n",
        "           .option(\"header\", True) \\\n",
        "           .csv(\"turkish_categorical_corpus.csv\")"
      ],
      "execution_count": 8,
      "outputs": []
    },
    {
      "cell_type": "code",
      "metadata": {
        "id": "XcVJYMVpjUit",
        "outputId": "1015ef77-a038-4fd2-c826-36d1153ce4c8",
        "colab": {
          "base_uri": "https://localhost:8080/",
          "height": 202
        }
      },
      "source": [
        "df_Spark.show(5, truncate=100)"
      ],
      "execution_count": 10,
      "outputs": [
        {
          "output_type": "stream",
          "text": [
            "+--------+----------------------------------------------------------------------------------------------------+\n",
            "|category|                                                                                                text|\n",
            "+--------+----------------------------------------------------------------------------------------------------+\n",
            "|siyaset | 3 milyon ile ön seçim vaadi mhp nin 10 olağan büyük kurultayı nda konuşan genel başkan adayı kor...|\n",
            "|siyaset | mesut_yılmaz yüce_divan da ceza alabilirdi prof dr sacit adalı isviçre deki banka eski başbakan ...|\n",
            "|siyaset | disko lar kaldırılıyor başbakan_yardımcısı arınç disko diye tabir edilen disiplin koğuşlarının k...|\n",
            "|siyaset | sarıgül anayasa_mahkemesi ne gidiyor mustafa_sarıgül ilçedeki sınır değişikliğine itiraz için an...|\n",
            "|siyaset | erdoğan idamın bir haklılık sebebi var demek ki yeri geldiği zaman idamın bir haklılık sebebi de...|\n",
            "+--------+----------------------------------------------------------------------------------------------------+\n",
            "only showing top 5 rows\n",
            "\n"
          ],
          "name": "stdout"
        }
      ]
    },
    {
      "cell_type": "code",
      "metadata": {
        "id": "PgtzZiC1j3Ni",
        "outputId": "e4b2b230-be31-4d78-dfd2-68e1739aa343",
        "colab": {
          "base_uri": "https://localhost:8080/",
          "height": 218
        }
      },
      "source": [
        "df_Spark.groupBy(\"category\").count().show()"
      ],
      "execution_count": 12,
      "outputs": [
        {
          "output_type": "stream",
          "text": [
            "+----------+-----+\n",
            "|  category|count|\n",
            "+----------+-----+\n",
            "|   kultur |  700|\n",
            "|  siyaset |  700|\n",
            "|teknoloji |  700|\n",
            "|   saglik |  700|\n",
            "|  ekonomi |  700|\n",
            "|     spor |  700|\n",
            "|    dunya |  700|\n",
            "+----------+-----+\n",
            "\n"
          ],
          "name": "stdout"
        }
      ]
    },
    {
      "cell_type": "markdown",
      "metadata": {
        "id": "DcHisAO6o_X8"
      },
      "source": [
        "## Removing extraneus underscores from the documents"
      ]
    },
    {
      "cell_type": "code",
      "metadata": {
        "id": "QdN_cHDEmRwL",
        "outputId": "c441d072-8a93-44ca-96bc-49eaf5059140",
        "colab": {
          "base_uri": "https://localhost:8080/",
          "height": 70
        }
      },
      "source": [
        "df_Spark.take(2)\n",
        "\n",
        "# We should remove the \"_\" (underscores) between nouns. e.g.: \"mesut_yılmaz\", \"koray_aydın\""
      ],
      "execution_count": 53,
      "outputs": [
        {
          "output_type": "execute_result",
          "data": {
            "text/plain": [
              "[Row(category='siyaset ', text=' 3 milyon ile ön seçim vaadi mhp nin 10 olağan büyük kurultayı nda konuşan genel başkan adayı koray aydın seçimlerden önce partinin üye sayısının 3 milyona ulaştırılması hedefini koyarak ön seçim uygulaması vaadinde bulundu mhp nin 10 olağan büyük kurultayı nda konuşan genel başkan adayı koray aydın seçimlerden önce partinin üye sayısının 3 milyona ulaştırılması hedefini koyarak ön seçim uygulaması vaadinde bulundu genel başkan adayı koray aydın kürsüye beklenirken yapılan tezahüratlar ve ıslıklamalar üzerine divan başkanı tuğrul türkeş mhp nin genel başkanlığı da genel başkan adaylığı da saygıdeğer işlerdir bu salondaki herkes ciddiye almak zorundadır dedi ve taşkınlıklara izin verilmeyeceğini salonda sükunet sağlanmadan konuşmaların başlamayacağını vurguladı türkeş devlet bahçeli nin kurultay açılışında konuştuğu için adaylık nedeniyle ikinci bir konuşma yapmayacağını açıkladı konuşmasında kurultayın mhp nin tek başına iktidarına vesile olmasını dileyen aydın ak parti nin mhp yi eleştirirken kaleleri bir bir fethederek yollarına devam ettiklerini söylediğini hatırlatarak iktidarın basın ve sivil toplumu susturduğunu ifade etti ak parti nin bürokraside taş üstüne taş bırakmadığını ileri süren aydın ülkücüleri düşman kabule ederek onları kıyma makinelerinden geçirecek bir zihniyetle sürgün ederek oraya buraya saldırarak bürokrasideki ülkücü kadrolara savaş açtılar dedi yaşanan bütün skandalların ardından devleti çete mantığıyla yöneten siyasi iktidarın olduğunu savunan aydın iktidarın belediyelere sahte raporlarla ve dinlemelerle saldırdığını savunan aydın arkasından habur dan içeri soktukları vatan hainlerine karşılama törenleri yetmez gibi oslo da teröristlerle kurdukları pazarlık masalarında suçüstü yakalanınca da ben görmedim diyerek bunu ispat edecek biri varsa şerefle ispat etsin diyerek ses kayıtları çıkınca da kıvırarak sahiplenemeyerek yaptığı işin üzerine şal örtmeye çalışarak siyasi riyakarlıkta sınır tanımayan siyasi iktidarla karşı karşıyayız diye konuştu mintika temizliği yapiyorlar ak parti nin ne yaptığını iyi bildiğini türkiye de ihtilal teşebbüsü var diyerek ordunun subaylarını yargılama adı altında cezaevine koyduğunu savunan aydın önce milletin bu darbeciler ortadan kalksın diyerek desteklediği sonra plan gereği sürek avına çevirerek türk ordusunun neredeyse yarısını içeri atan bu zihniyet mıntıka temizliği yapıyor kuracakları yeni türkiye modeline engel olmasın diye bunları kaldırıyorlar bu işi haince yapanlar ne zaman ki şehit cenazeleri türkiye yi ağlatmaya başlarken acılarımızla yaşarken türkiye nin başbakanı gerekirse öcalan la yeniden görüşebilirim diyor sayın başbakan ne görüşeceksin öcalan la ne söyleyeceksin oraya bir masa koymuşsun masanın üstünde türkiye karşında öcalan ne kadar istiyorsun şu kadar versem yeter mi diyeceksin öcalan yüzsüzlük eder de türkiye nin tamamını isterse ne yapacaksın diye konuştu o zaman ne yapacağiz yeni anayasa kapsamında türk milletinin adının anayasadan çıkarılarak bir alt kimlik haline getirileceğini türk milletine etnisite temelli yaklaşılacağını savunan aydın bu türk milletinin varlığını ötüken de söğüt te türk olan türk milletinin varlığını ortadan kaldırma çabasıdır bu işin sonudur çünkü şu anda kendisiyle benzeşen anamuhalefetle anlaşıp anayasadan türk milletinin adını çıkarırlarsa yapılacak bir şey kalmaz meclis sayısal çoğunlukla yönetiliyor bunlar sinsi her işi alttan alttan götürüyorlar böyle bir adım atar bu büyük milletin adını çıkararak türk milletini bir alt kimlik haline dönüştürürlerse ne yapacağız bunu yaparlarsa 5 yıl 10 yıl sonra bu ülkenin adının türkiye olmasına gerek yoktur derlerse ne yapacağız bu sinsi planı iyi görelim bunu için bir şeyler yapmamız harekete geçmemiz lazım dedi şubat ta 1 milyon olarak toplanirsak … kimsenin türkiye de olanlara arkasını dönemeyeceğini ifade eden aydın özetle şunları söyledi meydanlara ineceğiz türk milletine gideceğiz milletle bütünleşeceğiz onu bekleyen bu tehlikeler hakkında uyaracağız anlatacağız onu yanımıza almaya çalışacağız o büyük gücü harekete geçirir meydanlara iner onların dikkatini çekip yanımıza alırsak şubat ayında 1 milyon olarak toplanırsak hangi vatan hainleri bunu yapmaya cesaret edebilir türk milletinin bunu anlamasını sağlamamız lazım bunun için güçlü bir mhp ye ihtiyaç var 43 yıllık fikri birikimi üzerinden türk milletini bütün problemlerine getireceği çözüm önerilerini bir iktidar projesine dönüştürerek türk milletini karşısına çıkıp iktidar istersek bu coşku ve heyecanı ona aksettirirsek bu millet bu şaşkınlıkla etrafına bakınırken ben nereye bakacağım sorusunu sorarken bu millet elimizi tutacak ve mhp ile yeniden ayağa kalkacaktır hedef 3 milyon üye bu mücadelede ilk doğru adımın ülkücü hareketin birliğini ve dirliğini sağlamak olduğunu kaydeden aydın harekete bir gün bile hizmet etmiş her ülküdaşlarıyla kucaklaşmak ve bir araya gelmek mecburiyetinde olduklarını ifade etti ülkücüleri ülküdaşlık hukuku temelinde kaynaştırmadan büyük hedeflere yürüyemeyeceklerini anlatan aydın bunu temel hareket noktası kabul ediyoruz birey temelli bir hareketin başlaması için önce partide üyelik sistemini bir kampanyaya çevireceğiz seçime kadar 3 milyon üye yaparak ailelerimizin fertlerini genişleteceğiz bunu iller arası yarışa çevireceğiz mhp nin 3 milyon üyeli geniş aile haline gelmesini sağlayacağız dedi önseçim vaadi genel başkan seçilmesi halinde mhp ailesini genişleteceğini kaydeden aydın bunu yapınca bu 3 milyon kişi kurulan sandıklarla yapacağı bir ön seçimi size vaat ediyorum bunu taban güvenmek demektir böyle bir ön seçim yapıldı mı ankara da kimse genel merkez katlarında dolaşmayacak tabana size gidecek hasta olanın düğünü olanın yanında olacak yere düşeni ayağa kaldıracak böylece bu büyük aile fertleri bir birini anlayacak bu güzel sözün olduğu ortamın inşası demektir bu kötü söz olanın tasfiye edileceği liyakatın esas alınacağı yeni bir sistemin gelmesin demektir bu adımı atar aile fertleri arasında huzuru sağlarsak örgütlenme modelini buna paralel değiştirirsek mhp nin içinde huzur sağlanır diye konuştu bu bir kişiyi korumak için kelle avcısı rolü üstlenip ülküdaşlarını yok farz ederek küskünler ordusu yarattığın bir sitemin anlaşılması demektir diyen aydın mhp her yerde sloganıyla parti içinde hareketlilik sağlayacaklarını halka dokunacaklarını ifade etti ve tabanla bütünleşmiş mhp ye ihtiyaç var bunun içi bir iktidar projesi koyarak aday olduk biz iktidar olmak istiyoruz dedi aydın türk milletinin yalnızlığı yaşadığı bir durumda etrafına bakındığı kendini kaldıracak birini bekleyen türkiye nin mhp nin kendisine ulaşmasıyla yarın elbet bizimdir diye haykıracağını ifade etti haber anka foto emre senoglu murat oztek'),\n",
              " Row(category='siyaset ', text=' mesut yılmaz yüce divan da ceza alabilirdi prof dr sacit adalı isviçre deki banka eski başbakan mesut yılmaz ın bankada 14 milyon doları var iddiasına cevap verseydi yüce divan da hakkında verilen karar daha farklı olabilirdi dedi anayasa mahkemesi eski üyesi turgut özal üniversitesi hukuk fakültesi dekanı prof dr sacit adalı isviçre deki banka eski başbakan mesut yılmaz ın bankada 14 milyon doları var iddiasına cevap verseydi yüce divan da hakkında verilen karar daha farklı olabilirdi dedi adalı yüce divan ın rüşvet aldığı iddia edilen eski yargıtay 6 hukuk dairesi başkanı hasan erdoğan ile rüşvet vermekle suçlanan istanbul ticaret odası başkanı murat yalçıntaş ın da aralarında bulunduğu 15 sanık hakkında soruşturma evresinde elde edilen delillerden bir kısmının hukuka uygun olmaması nedeniyle verdiği beraat kararını değerlendirdi bu bir takdir meselesidir diyen adalı anayasa mahkemesi üyelerinin görüşlerine saygı duyduğunu söyledi adalı kanun dışı delillerin davanın seyrini değiştirebilecek durumda ise kabul edilebileceğini belirtti rüşvet alınıp verilirken kameralar çalışmamış tam çekemeyince ortada bir şey yok sadece polislerin gördük dediği olaylar var diyen adalı anayasa mahkemesi üyelerinin çoğunluğunun bunu kabul etmediğini kaydetti adalı bu üyelerin takip etmenin hakim kararıyla olması gerekirken adalet müfettişinin emriyle yapıldığını söylediklerini karara muhalif olan üyelerin ise müfettişlerin resmi makam oluşları ve güvenlik güçlerinin onların emriyle takip etmesini makul karşıladıklarını belirterek bunu delil saydıklarını bildirdi mesut yılmaz hakkındaki iddia adalı size göre yasa dışı elde edilen deliller kabul edilebilir mi sorusuna mesut yılmaz ın 2006 da yüce divan da yargılandığı davayla ilgili görüşünü açıklayarak şu yanıtı verdi anayasa mahkemesi yılmaz ın yüce divan da yargılanmasında böyle bir durumu kaale almıştı yasa dışı elde edilen delillerin araştırılmasını kabul etmişti mahkemeye yurt dışından imzası olmayan sahte isimle bir mektup gelmişti mektupta mesut yılmaz ın isviçre nin şu bankasındaki şu numaralı hesabında 14 milyon doları var deniliyordu mahkeme bunu çok tartıştı imzasız mektup asla kabul edilemez denildi ama ortada 14 milyon dolar gibi yüksek bir rakam vardı ya doğruysa hiç değilse soralım denildi ve isviçre deki bankaya soruldu banka ticari sırdır mudilerimizin hesabının sırrını veremeyiz dedi mahkeme ısrar etti ikinci kez devlet adına istedi gene vermediler mahkeme mesut yılmaz hakkında devlet eski bakanı güneş taner le birlikte türkbank ihalesine fesat karıştırdıkları iddiasıyla yargılandıkları davada davanın kesin hükme bağlanmasını şartla salıverilme yasası uyarınca erteledi daha farklı karar çıkabilecekti adalı o belge delil olsaydı belki ceza alabilirdi sözlerine evet yanıtını verdi adalı eğer hakikaten isviçre den evet doğru bu kadar para var cevabı gelseydi herhalde mahkeme imzasız ve isimsiz diye onu reddetmeyecek ve kaale alacaktı mesut yılmaz hakkında daha farklı bir karar çıkabilecekti dedi bu durumda yasa dışı elde edilen delillerin kabul edilebileceğini belirten adalı prensipte kabul edilmemesi lazım ama önemli bir bulguya ulaştıracaksa davanın seyrine tesir edecek bir belge şahitlik gibi bir şey ortaya koyacaksa diğer başka deliller de onu destekliyorsa kabul edilebilir diye konuştu coşkun ergül aa')]"
            ]
          },
          "metadata": {
            "tags": []
          },
          "execution_count": 53
        }
      ]
    },
    {
      "cell_type": "code",
      "metadata": {
        "id": "jp_63PmTlDWC"
      },
      "source": [
        "from pyspark.sql.functions import *\n",
        "df_Spark = df_Spark.withColumn('text', regexp_replace('text', '_', ' '))"
      ],
      "execution_count": 37,
      "outputs": []
    },
    {
      "cell_type": "code",
      "metadata": {
        "id": "J8Ix9cxAlTGb",
        "outputId": "de3538e6-5c25-4d8b-9a0f-3299e09057f1",
        "colab": {
          "base_uri": "https://localhost:8080/",
          "height": 202
        }
      },
      "source": [
        "df_Spark.show(5, truncate=100)"
      ],
      "execution_count": 19,
      "outputs": [
        {
          "output_type": "stream",
          "text": [
            "+--------+----------------------------------------------------------------------------------------------------+\n",
            "|category|                                                                                                text|\n",
            "+--------+----------------------------------------------------------------------------------------------------+\n",
            "|siyaset | 3 milyon ile ön seçim vaadi mhp nin 10 olağan büyük kurultayı nda konuşan genel başkan adayı kor...|\n",
            "|siyaset | mesut yılmaz yüce divan da ceza alabilirdi prof dr sacit adalı isviçre deki banka eski başbakan ...|\n",
            "|siyaset | disko lar kaldırılıyor başbakan yardımcısı arınç disko diye tabir edilen disiplin koğuşlarının k...|\n",
            "|siyaset | sarıgül anayasa mahkemesi ne gidiyor mustafa sarıgül ilçedeki sınır değişikliğine itiraz için an...|\n",
            "|siyaset | erdoğan idamın bir haklılık sebebi var demek ki yeri geldiği zaman idamın bir haklılık sebebi de...|\n",
            "+--------+----------------------------------------------------------------------------------------------------+\n",
            "only showing top 5 rows\n",
            "\n"
          ],
          "name": "stdout"
        }
      ]
    },
    {
      "cell_type": "markdown",
      "metadata": {
        "id": "P4N8pf2xpMw-"
      },
      "source": [
        "## Splitting the dataset into training and testing sets"
      ]
    },
    {
      "cell_type": "code",
      "metadata": {
        "id": "76hYXAYENSEJ"
      },
      "source": [
        "train_news, test_news = df_Spark.randomSplit([0.8, 0.2], seed = 100)"
      ],
      "execution_count": 20,
      "outputs": []
    },
    {
      "cell_type": "code",
      "metadata": {
        "id": "i0Ph3t_5NxFv",
        "outputId": "a1119267-6020-45c9-ec41-61a546cf875d",
        "colab": {
          "base_uri": "https://localhost:8080/",
          "height": 34
        }
      },
      "source": [
        "train_news.count()"
      ],
      "execution_count": 14,
      "outputs": [
        {
          "output_type": "execute_result",
          "data": {
            "text/plain": [
              "3889"
            ]
          },
          "metadata": {
            "tags": []
          },
          "execution_count": 14
        }
      ]
    },
    {
      "cell_type": "code",
      "metadata": {
        "id": "n3Mm6WK5N1YL",
        "outputId": "ffccafb2-5aae-4e6c-fb0a-f02b82df5c9c",
        "colab": {
          "base_uri": "https://localhost:8080/",
          "height": 34
        }
      },
      "source": [
        "test_news.count()"
      ],
      "execution_count": 15,
      "outputs": [
        {
          "output_type": "execute_result",
          "data": {
            "text/plain": [
              "1011"
            ]
          },
          "metadata": {
            "tags": []
          },
          "execution_count": 15
        }
      ]
    },
    {
      "cell_type": "markdown",
      "metadata": {
        "id": "VIhDkRjet72G"
      },
      "source": [
        "## Setting the Pipeline of Turkish Language"
      ]
    },
    {
      "cell_type": "code",
      "metadata": {
        "id": "u4Mcr0GNNbX8",
        "outputId": "078cd2b2-3856-4b95-c9fd-91fba1389a9d",
        "colab": {
          "base_uri": "https://localhost:8080/",
          "height": 168
        }
      },
      "source": [
        "document = DocumentAssembler()\\\n",
        "    .setInputCol(\"text\")\\\n",
        "    .setOutputCol(\"document\")\n",
        "\n",
        "sentence = SentenceDetector()\\\n",
        "    .setInputCols(['document'])\\\n",
        "    .setOutputCol('sentence')\n",
        "\n",
        "token = Tokenizer()\\\n",
        "    .setInputCols(['sentence'])\\\n",
        "    .setOutputCol('token')\n",
        "\n",
        "stop_words = StopWordsCleaner.pretrained('stopwords_tr', 'tr')\\\n",
        "    .setInputCols([\"token\"]) \\\n",
        "    .setOutputCol(\"cleanTokens\") \\\n",
        "    .setCaseSensitive(False)\n",
        "\n",
        "lemmatizer = LemmatizerModel.pretrained(\"lemma\", \"tr\") \\\n",
        "        .setInputCols([\"token\"]) \\\n",
        "        .setOutputCol(\"lemma\")\n",
        "\n",
        "pos = PerceptronModel.pretrained(\"pos_ud_imst\", \"tr\") \\\n",
        "      .setInputCols([\"document\", \"token\"]) \\\n",
        "      .setOutputCol(\"pos\")\n",
        "\n",
        "finisher = Finisher() \\\n",
        "    .setInputCols([\"lemma\"]) \\\n",
        "    .setOutputCols([\"token_features\"]) \\\n",
        "    .setOutputAsArray(True) \\\n",
        "    .setCleanAnnotations(False)"
      ],
      "execution_count": 17,
      "outputs": [
        {
          "output_type": "stream",
          "text": [
            "stopwords_tr download started this may take some time.\n",
            "Approximate size to download 2 KB\n",
            "[OK!]\n",
            "lemma download started this may take some time.\n",
            "Approximate size to download 14.8 MB\n",
            "[OK!]\n",
            "pos_ud_imst download started this may take some time.\n",
            "Approximate size to download 2.1 MB\n",
            "[OK!]\n"
          ],
          "name": "stdout"
        }
      ]
    },
    {
      "cell_type": "code",
      "metadata": {
        "id": "m5dmfhyUIrYo"
      },
      "source": [
        "from pyspark.ml.feature import HashingTF, IDF, StringIndexer, IndexToString\n",
        "from pyspark.ml.classification import LogisticRegression, NaiveBayes\n",
        "from pyspark.ml.evaluation import MulticlassClassificationEvaluator"
      ],
      "execution_count": 16,
      "outputs": []
    },
    {
      "cell_type": "markdown",
      "metadata": {
        "id": "q2sg-5HuyNvy"
      },
      "source": [
        "## Text Classification with `LogisticRegression`"
      ]
    },
    {
      "cell_type": "code",
      "metadata": {
        "id": "ZJdoLErdNKHv"
      },
      "source": [
        "hashTF = HashingTF(inputCol=\"token_features\", outputCol=\"raw_features\", numFeatures=4000)\n",
        "\n",
        "idf = IDF(inputCol=\"raw_features\", outputCol=\"features\", minDocFreq=5)\n",
        "\n",
        "label_strIdx = StringIndexer(inputCol=\"category\", outputCol=\"label\")\n",
        "\n",
        "logReg = LogisticRegression(maxIter=10)\n",
        "\n",
        "label_Idxstr = IndexToString(inputCol=\"label\", outputCol=\"article_class\")\n",
        "\n",
        "nlp_pipeline_lr = Pipeline(\n",
        "        stages=[document, \n",
        "                sentence,\n",
        "                token,\n",
        "                stop_words, \n",
        "                lemmatizer, \n",
        "                finisher,\n",
        "                hashTF,\n",
        "                idf,\n",
        "                label_strIdx,\n",
        "                logReg,\n",
        "                label_Idxstr])"
      ],
      "execution_count": 21,
      "outputs": []
    },
    {
      "cell_type": "code",
      "metadata": {
        "id": "J5Ps83oqN4OA"
      },
      "source": [
        "classification_model_lr = nlp_pipeline_lr.fit(train_news)"
      ],
      "execution_count": 22,
      "outputs": []
    },
    {
      "cell_type": "code",
      "metadata": {
        "id": "LGd1ohqOOmK3"
      },
      "source": [
        "pred_lr = classification_model_lr.transform(test_news)"
      ],
      "execution_count": 43,
      "outputs": []
    },
    {
      "cell_type": "code",
      "metadata": {
        "id": "wbshPu-TPYqF",
        "outputId": "28c04620-696f-4643-9ed2-f179078ddcbe",
        "colab": {
          "base_uri": "https://localhost:8080/",
          "height": 202
        }
      },
      "source": [
        "pred_lr.select(\"category\", \"label\", \"prediction\").show(5)"
      ],
      "execution_count": 54,
      "outputs": [
        {
          "output_type": "stream",
          "text": [
            "+--------+-----+----------+\n",
            "|category|label|prediction|\n",
            "+--------+-----+----------+\n",
            "|  dunya |  3.0|       3.0|\n",
            "|  dunya |  3.0|       3.0|\n",
            "|  dunya |  3.0|       3.0|\n",
            "|  dunya |  3.0|       3.0|\n",
            "|  dunya |  3.0|       3.0|\n",
            "+--------+-----+----------+\n",
            "only showing top 5 rows\n",
            "\n"
          ],
          "name": "stdout"
        }
      ]
    },
    {
      "cell_type": "markdown",
      "metadata": {
        "id": "9-hZJv6zthEm"
      },
      "source": [
        "- Evaluation of Classification (`LogisticRegression`)"
      ]
    },
    {
      "cell_type": "code",
      "metadata": {
        "id": "LljS_thjl907",
        "outputId": "bb9d115f-c937-4041-ee67-9e3d3ce28b88",
        "colab": {
          "base_uri": "https://localhost:8080/",
          "height": 50
        }
      },
      "source": [
        "evaluator = MulticlassClassificationEvaluator(\n",
        "    labelCol=\"label\", predictionCol=\"prediction\", metricName=\"accuracy\")\n",
        "accuracy = evaluator.evaluate(pred_lr)\n",
        "print(\"Accuracy = %g\" % (accuracy))\n",
        "print(\"Test Error = %g \" % (1.0 - accuracy))"
      ],
      "execution_count": 24,
      "outputs": [
        {
          "output_type": "stream",
          "text": [
            "Accuracy = 0.893175\n",
            "Test Error = 0.106825 \n"
          ],
          "name": "stdout"
        }
      ]
    },
    {
      "cell_type": "code",
      "metadata": {
        "id": "yytXDvhhPqn7"
      },
      "source": [
        "from sklearn.metrics import classification_report, accuracy_score"
      ],
      "execution_count": 39,
      "outputs": []
    },
    {
      "cell_type": "code",
      "metadata": {
        "id": "XO9LE-qZSR_O"
      },
      "source": [
        "df_lr = classification_model_lr.transform(test_news).select(\"category\", \"label\", \"prediction\").toPandas()"
      ],
      "execution_count": 40,
      "outputs": []
    },
    {
      "cell_type": "code",
      "metadata": {
        "id": "DhMIx5R8ShrY",
        "outputId": "a48dec12-852f-4626-898e-349d562702ca",
        "colab": {
          "base_uri": "https://localhost:8080/",
          "height": 195
        }
      },
      "source": [
        "df_lr.head()"
      ],
      "execution_count": 41,
      "outputs": [
        {
          "output_type": "execute_result",
          "data": {
            "text/html": [
              "<div>\n",
              "<style scoped>\n",
              "    .dataframe tbody tr th:only-of-type {\n",
              "        vertical-align: middle;\n",
              "    }\n",
              "\n",
              "    .dataframe tbody tr th {\n",
              "        vertical-align: top;\n",
              "    }\n",
              "\n",
              "    .dataframe thead th {\n",
              "        text-align: right;\n",
              "    }\n",
              "</style>\n",
              "<table border=\"1\" class=\"dataframe\">\n",
              "  <thead>\n",
              "    <tr style=\"text-align: right;\">\n",
              "      <th></th>\n",
              "      <th>category</th>\n",
              "      <th>label</th>\n",
              "      <th>prediction</th>\n",
              "    </tr>\n",
              "  </thead>\n",
              "  <tbody>\n",
              "    <tr>\n",
              "      <th>0</th>\n",
              "      <td>dunya</td>\n",
              "      <td>3.0</td>\n",
              "      <td>3.0</td>\n",
              "    </tr>\n",
              "    <tr>\n",
              "      <th>1</th>\n",
              "      <td>dunya</td>\n",
              "      <td>3.0</td>\n",
              "      <td>3.0</td>\n",
              "    </tr>\n",
              "    <tr>\n",
              "      <th>2</th>\n",
              "      <td>dunya</td>\n",
              "      <td>3.0</td>\n",
              "      <td>3.0</td>\n",
              "    </tr>\n",
              "    <tr>\n",
              "      <th>3</th>\n",
              "      <td>dunya</td>\n",
              "      <td>3.0</td>\n",
              "      <td>3.0</td>\n",
              "    </tr>\n",
              "    <tr>\n",
              "      <th>4</th>\n",
              "      <td>dunya</td>\n",
              "      <td>3.0</td>\n",
              "      <td>3.0</td>\n",
              "    </tr>\n",
              "  </tbody>\n",
              "</table>\n",
              "</div>"
            ],
            "text/plain": [
              "  category  label  prediction\n",
              "0   dunya     3.0         3.0\n",
              "1   dunya     3.0         3.0\n",
              "2   dunya     3.0         3.0\n",
              "3   dunya     3.0         3.0\n",
              "4   dunya     3.0         3.0"
            ]
          },
          "metadata": {
            "tags": []
          },
          "execution_count": 41
        }
      ]
    },
    {
      "cell_type": "code",
      "metadata": {
        "id": "6uiwnwwmVbE9",
        "outputId": "e6b8ca86-d424-4125-f255-be86973e1be1",
        "colab": {
          "base_uri": "https://localhost:8080/",
          "height": 252
        }
      },
      "source": [
        "print(classification_report(df_lr.label, df_lr.prediction))"
      ],
      "execution_count": 42,
      "outputs": [
        {
          "output_type": "stream",
          "text": [
            "              precision    recall  f1-score   support\n",
            "\n",
            "         0.0       0.94      0.93      0.93       135\n",
            "         1.0       0.86      0.81      0.83       140\n",
            "         2.0       0.86      0.88      0.87       142\n",
            "         3.0       0.82      0.89      0.86       142\n",
            "         4.0       0.91      0.92      0.91       144\n",
            "         5.0       0.88      0.88      0.88       153\n",
            "         6.0       0.98      0.95      0.96       155\n",
            "\n",
            "    accuracy                           0.89      1011\n",
            "   macro avg       0.89      0.89      0.89      1011\n",
            "weighted avg       0.89      0.89      0.89      1011\n",
            "\n"
          ],
          "name": "stdout"
        }
      ]
    },
    {
      "cell_type": "markdown",
      "metadata": {
        "id": "PTnnf2Z7pg1s"
      },
      "source": [
        "## Text Classification with `NaiveBayes`"
      ]
    },
    {
      "cell_type": "code",
      "metadata": {
        "id": "up9XDrSl2Omu"
      },
      "source": [
        "hashTF = HashingTF(inputCol=\"token_features\", outputCol=\"raw_features\", numFeatures=4000)\n",
        "\n",
        "idf = IDF(inputCol=\"raw_features\", outputCol=\"features\", minDocFreq=5)\n",
        "\n",
        "label_strIdx = StringIndexer(inputCol=\"category\", outputCol=\"label\")\n",
        "\n",
        "bayes_class = NaiveBayes(smoothing=111)\n",
        "\n",
        "label_Idxstr = IndexToString(inputCol=\"label\", outputCol=\"article_class\")\n",
        "\n",
        "nlp_pipeline_bayes = Pipeline(\n",
        "    stages=[document, \n",
        "            sentence,\n",
        "            token,\n",
        "            stop_words, \n",
        "            lemmatizer, \n",
        "            finisher,\n",
        "            hashTF,\n",
        "            idf,\n",
        "            label_strIdx,\n",
        "            bayes_class,\n",
        "            label_Idxstr])"
      ],
      "execution_count": 45,
      "outputs": []
    },
    {
      "cell_type": "code",
      "metadata": {
        "id": "O9RIPijU00oV"
      },
      "source": [
        "classification_model_bayes = nlp_pipeline_bayes.fit(train_news)"
      ],
      "execution_count": 46,
      "outputs": []
    },
    {
      "cell_type": "code",
      "metadata": {
        "id": "URXk_8Ka2DEG"
      },
      "source": [
        "pred_bayes = classification_model_bayes.transform(test_news)"
      ],
      "execution_count": 47,
      "outputs": []
    },
    {
      "cell_type": "code",
      "metadata": {
        "id": "C4C6ggjW_kGa",
        "outputId": "31f6366a-8db5-4f9d-f8fa-844ead8d7c3c",
        "colab": {
          "base_uri": "https://localhost:8080/",
          "height": 202
        }
      },
      "source": [
        "pred_bayes.select(\"category\", \"label\", \"prediction\").show(5)"
      ],
      "execution_count": 55,
      "outputs": [
        {
          "output_type": "stream",
          "text": [
            "+--------+-----+----------+\n",
            "|category|label|prediction|\n",
            "+--------+-----+----------+\n",
            "|  dunya |  3.0|       3.0|\n",
            "|  dunya |  3.0|       3.0|\n",
            "|  dunya |  3.0|       1.0|\n",
            "|  dunya |  3.0|       1.0|\n",
            "|  dunya |  3.0|       1.0|\n",
            "+--------+-----+----------+\n",
            "only showing top 5 rows\n",
            "\n"
          ],
          "name": "stdout"
        }
      ]
    },
    {
      "cell_type": "markdown",
      "metadata": {
        "id": "EuOXl7gjtu93"
      },
      "source": [
        "- Evaluation of Classification (`NaiveBayes`)"
      ]
    },
    {
      "cell_type": "code",
      "metadata": {
        "id": "4MWqJXVRrSP1",
        "outputId": "8e62068d-7ae9-4f7f-8dd0-509c719eaa2a",
        "colab": {
          "base_uri": "https://localhost:8080/",
          "height": 50
        }
      },
      "source": [
        "evaluator = MulticlassClassificationEvaluator(\n",
        "    labelCol=\"label\", predictionCol=\"prediction\", metricName=\"accuracy\")\n",
        "accuracy = evaluator.evaluate(pred_bayes)\n",
        "print(\"Accuracy = %g\" % (accuracy))\n",
        "print(\"Test Error = %g \" % (1.0 - accuracy))"
      ],
      "execution_count": 49,
      "outputs": [
        {
          "output_type": "stream",
          "text": [
            "Accuracy = 0.866469\n",
            "Test Error = 0.133531 \n"
          ],
          "name": "stdout"
        }
      ]
    },
    {
      "cell_type": "code",
      "metadata": {
        "id": "goeg2zgZ_rcS"
      },
      "source": [
        "df_bayes = classification_model_bayes.transform(test_news).select(\"category\", \"label\", \"prediction\").toPandas()"
      ],
      "execution_count": 50,
      "outputs": []
    },
    {
      "cell_type": "code",
      "metadata": {
        "id": "MeGgKDUXtZyG",
        "outputId": "359e1711-aeae-41b7-b749-be4551646af5",
        "colab": {
          "base_uri": "https://localhost:8080/",
          "height": 195
        }
      },
      "source": [
        "df_bayes.head()"
      ],
      "execution_count": 52,
      "outputs": [
        {
          "output_type": "execute_result",
          "data": {
            "text/html": [
              "<div>\n",
              "<style scoped>\n",
              "    .dataframe tbody tr th:only-of-type {\n",
              "        vertical-align: middle;\n",
              "    }\n",
              "\n",
              "    .dataframe tbody tr th {\n",
              "        vertical-align: top;\n",
              "    }\n",
              "\n",
              "    .dataframe thead th {\n",
              "        text-align: right;\n",
              "    }\n",
              "</style>\n",
              "<table border=\"1\" class=\"dataframe\">\n",
              "  <thead>\n",
              "    <tr style=\"text-align: right;\">\n",
              "      <th></th>\n",
              "      <th>category</th>\n",
              "      <th>label</th>\n",
              "      <th>prediction</th>\n",
              "    </tr>\n",
              "  </thead>\n",
              "  <tbody>\n",
              "    <tr>\n",
              "      <th>0</th>\n",
              "      <td>dunya</td>\n",
              "      <td>3.0</td>\n",
              "      <td>3.0</td>\n",
              "    </tr>\n",
              "    <tr>\n",
              "      <th>1</th>\n",
              "      <td>dunya</td>\n",
              "      <td>3.0</td>\n",
              "      <td>3.0</td>\n",
              "    </tr>\n",
              "    <tr>\n",
              "      <th>2</th>\n",
              "      <td>dunya</td>\n",
              "      <td>3.0</td>\n",
              "      <td>1.0</td>\n",
              "    </tr>\n",
              "    <tr>\n",
              "      <th>3</th>\n",
              "      <td>dunya</td>\n",
              "      <td>3.0</td>\n",
              "      <td>1.0</td>\n",
              "    </tr>\n",
              "    <tr>\n",
              "      <th>4</th>\n",
              "      <td>dunya</td>\n",
              "      <td>3.0</td>\n",
              "      <td>1.0</td>\n",
              "    </tr>\n",
              "  </tbody>\n",
              "</table>\n",
              "</div>"
            ],
            "text/plain": [
              "  category  label  prediction\n",
              "0   dunya     3.0         3.0\n",
              "1   dunya     3.0         3.0\n",
              "2   dunya     3.0         1.0\n",
              "3   dunya     3.0         1.0\n",
              "4   dunya     3.0         1.0"
            ]
          },
          "metadata": {
            "tags": []
          },
          "execution_count": 52
        }
      ]
    },
    {
      "cell_type": "code",
      "metadata": {
        "id": "9NoszVUaAHnt",
        "outputId": "f0ff193f-9bf1-4f21-b2d1-c4495b91c6bb",
        "colab": {
          "base_uri": "https://localhost:8080/",
          "height": 252
        }
      },
      "source": [
        "print(classification_report(df_bayes.label, df_bayes.prediction))"
      ],
      "execution_count": 51,
      "outputs": [
        {
          "output_type": "stream",
          "text": [
            "              precision    recall  f1-score   support\n",
            "\n",
            "         0.0       0.91      0.93      0.92       135\n",
            "         1.0       0.75      0.86      0.80       140\n",
            "         2.0       0.77      0.93      0.84       142\n",
            "         3.0       0.91      0.68      0.78       142\n",
            "         4.0       0.90      0.92      0.91       144\n",
            "         5.0       0.88      0.83      0.85       153\n",
            "         6.0       0.99      0.91      0.95       155\n",
            "\n",
            "    accuracy                           0.87      1011\n",
            "   macro avg       0.87      0.87      0.87      1011\n",
            "weighted avg       0.87      0.87      0.87      1011\n",
            "\n"
          ],
          "name": "stdout"
        }
      ]
    },
    {
      "cell_type": "code",
      "metadata": {
        "id": "nP8V_ptVDEqw"
      },
      "source": [
        ""
      ],
      "execution_count": null,
      "outputs": []
    }
  ]
}