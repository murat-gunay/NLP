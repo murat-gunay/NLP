{
  "nbformat": 4,
  "nbformat_minor": 0,
  "metadata": {
    "colab": {
      "name": "Turkish_NER_Training_SparkNLP.ipynb",
      "provenance": [],
      "toc_visible": true,
      "authorship_tag": "ABX9TyOpzrVjoLthdNdrqQulSI89",
      "include_colab_link": true
    },
    "kernelspec": {
      "name": "python3",
      "display_name": "Python 3"
    }
  },
  "cells": [
    {
      "cell_type": "markdown",
      "metadata": {
        "id": "view-in-github",
        "colab_type": "text"
      },
      "source": [
        "<a href=\"https://colab.research.google.com/github/murat-gunay/NLP/blob/master/Turkish_NER_Training_SparkNLP.ipynb\" target=\"_parent\"><img src=\"https://colab.research.google.com/assets/colab-badge.svg\" alt=\"Open In Colab\"/></a>"
      ]
    },
    {
      "cell_type": "markdown",
      "metadata": {
        "id": "C5xhSMOIApSr"
      },
      "source": [
        "# Turkish NER Training with Spark NLP & NLU"
      ]
    },
    {
      "cell_type": "markdown",
      "metadata": {
        "id": "J5FbNR2Kut3R"
      },
      "source": [
        "## Initializing `pyspark`, `jdk`, `spark-nlp` and Environment"
      ]
    },
    {
      "cell_type": "code",
      "metadata": {
        "id": "i5NeynJTLfYO",
        "outputId": "80bb0004-b64d-4f89-96ae-ef8c1aaa8453",
        "colab": {
          "base_uri": "https://localhost:8080/",
          "height": 419
        }
      },
      "source": [
        "import os\n",
        "\n",
        "# Install java\n",
        "! apt-get update -qq\n",
        "! apt-get install -y openjdk-8-jdk-headless -qq > /dev/null\n",
        "\n",
        "os.environ[\"JAVA_HOME\"] = \"/usr/lib/jvm/java-8-openjdk-amd64\"\n",
        "os.environ[\"PATH\"] = os.environ[\"JAVA_HOME\"] + \"/bin:\" + os.environ[\"PATH\"]\n",
        "! java -version\n",
        "\n",
        "# Install pyspark\n",
        "! pip install --ignore-installed pyspark==2.4.4\n",
        "\n",
        "# Install Spark NLP\n",
        "! pip install --ignore-installed spark-nlp"
      ],
      "execution_count": null,
      "outputs": [
        {
          "output_type": "stream",
          "text": [
            "openjdk version \"1.8.0_265\"\n",
            "OpenJDK Runtime Environment (build 1.8.0_265-8u265-b01-0ubuntu2~18.04-b01)\n",
            "OpenJDK 64-Bit Server VM (build 25.265-b01, mixed mode)\n",
            "Collecting pyspark==2.4.4\n",
            "\u001b[?25l  Downloading https://files.pythonhosted.org/packages/87/21/f05c186f4ddb01d15d0ddc36ef4b7e3cedbeb6412274a41f26b55a650ee5/pyspark-2.4.4.tar.gz (215.7MB)\n",
            "\u001b[K     |████████████████████████████████| 215.7MB 68kB/s \n",
            "\u001b[?25hCollecting py4j==0.10.7\n",
            "\u001b[?25l  Downloading https://files.pythonhosted.org/packages/e3/53/c737818eb9a7dc32a7cd4f1396e787bd94200c3997c72c1dbe028587bd76/py4j-0.10.7-py2.py3-none-any.whl (197kB)\n",
            "\u001b[K     |████████████████████████████████| 204kB 40.9MB/s \n",
            "\u001b[?25hBuilding wheels for collected packages: pyspark\n",
            "  Building wheel for pyspark (setup.py) ... \u001b[?25l\u001b[?25hdone\n",
            "  Created wheel for pyspark: filename=pyspark-2.4.4-py2.py3-none-any.whl size=216130389 sha256=8dc3b903b009d74585d0b6a7bb5d6f2b041304fc60ed4cb5fb4825dbc016072e\n",
            "  Stored in directory: /root/.cache/pip/wheels/ab/09/4d/0d184230058e654eb1b04467dbc1292f00eaa186544604b471\n",
            "Successfully built pyspark\n",
            "Installing collected packages: py4j, pyspark\n",
            "Successfully installed py4j-0.10.7 pyspark-2.4.4\n",
            "Collecting spark-nlp\n",
            "\u001b[?25l  Downloading https://files.pythonhosted.org/packages/f1/de/6db7be666e7c8b70d39bcb0d956d3d983bcb06ea3895308c84d7a131dfb1/spark_nlp-2.6.2-py2.py3-none-any.whl (128kB)\n",
            "\u001b[K     |████████████████████████████████| 133kB 1.3MB/s \n",
            "\u001b[?25hInstalling collected packages: spark-nlp\n",
            "Successfully installed spark-nlp-2.6.2\n"
          ],
          "name": "stdout"
        }
      ]
    },
    {
      "cell_type": "markdown",
      "metadata": {
        "id": "0Pwho3QFvHFG"
      },
      "source": [
        "## Starting Spark Session"
      ]
    },
    {
      "cell_type": "code",
      "metadata": {
        "id": "YsMSAuOKJK0E"
      },
      "source": [
        "import sparknlp"
      ],
      "execution_count": null,
      "outputs": []
    },
    {
      "cell_type": "code",
      "metadata": {
        "id": "PGE0j7PAPZUJ"
      },
      "source": [
        "from pyspark.sql import SparkSession"
      ],
      "execution_count": null,
      "outputs": []
    },
    {
      "cell_type": "markdown",
      "metadata": {
        "id": "agR1edlZGLq7"
      },
      "source": [
        "- I customize my spark session to fit my use-case."
      ]
    },
    {
      "cell_type": "code",
      "metadata": {
        "id": "eX2xnQIpbZPv"
      },
      "source": [
        "spark = SparkSession.builder \\\n",
        "        .appName(\"Spark NLP\") \\\n",
        "        .master(\"local[*]\") \\\n",
        "        .config(\"spark.driver.memory\", \"20G\") \\\n",
        "        .config(\"spark.serializer\", \"org.apache.spark.serializer.KryoSerializer\") \\\n",
        "        .config(\"spark.kryoserializer.buffer.max\", \"2000M\") \\\n",
        "        .config(\"spark.driver.maxResultSize\", \"20G\") \\\n",
        "        .config(\"spark.jars.packages\", \"com.johnsnowlabs.nlp:spark-nlp_2.11:2.6.2\").getOrCreate()"
      ],
      "execution_count": null,
      "outputs": []
    },
    {
      "cell_type": "code",
      "metadata": {
        "id": "X26Hf2U-LP6l",
        "outputId": "5e961163-3c0b-4ef5-e121-1ff5d26a999d",
        "colab": {
          "base_uri": "https://localhost:8080/",
          "height": 54
        }
      },
      "source": [
        "print(\"Version of SparkNLP:\", sparknlp.version())\n",
        "print(\"Version of Spark :\", spark.version)"
      ],
      "execution_count": null,
      "outputs": [
        {
          "output_type": "stream",
          "text": [
            "Version of SparkNLP: 2.6.2\n",
            "Version of Spark : 2.4.4\n"
          ],
          "name": "stdout"
        }
      ]
    },
    {
      "cell_type": "markdown",
      "metadata": {
        "id": "v-EbKhGGvQdd"
      },
      "source": [
        "## Downloading & Importing Necessary Libraries"
      ]
    },
    {
      "cell_type": "code",
      "metadata": {
        "id": "n862A_23Lp-Q"
      },
      "source": [
        "from pyspark.ml import Pipeline\n",
        "from sparknlp.annotator import *\n",
        "from sparknlp.common import *\n",
        "from sparknlp.base import *"
      ],
      "execution_count": null,
      "outputs": []
    },
    {
      "cell_type": "code",
      "metadata": {
        "id": "0n8Tb3IKMGMB"
      },
      "source": [
        "import pandas as pd\n",
        "from sparknlp.training import CoNLL\n",
        "import pyspark.sql.functions as F"
      ],
      "execution_count": null,
      "outputs": []
    },
    {
      "cell_type": "code",
      "metadata": {
        "id": "EplE_PmKBLhU"
      },
      "source": [
        "! pip install nlu  > /dev/null"
      ],
      "execution_count": null,
      "outputs": []
    },
    {
      "cell_type": "code",
      "metadata": {
        "id": "SNZRFLDyuRV8"
      },
      "source": [
        "import nlu"
      ],
      "execution_count": null,
      "outputs": []
    },
    {
      "cell_type": "markdown",
      "metadata": {
        "id": "wCEQUoAYviN6"
      },
      "source": [
        "## Loading Labeled Raw DataSet and Starting Pre-processing"
      ]
    },
    {
      "cell_type": "code",
      "metadata": {
        "id": "Lg7_d3R0v6kS"
      },
      "source": [
        "with open(\"Turkish_NER_Tagged.txt\", \"r\", encoding=\"utf-8\") as file:\n",
        "    text = file.read()\n",
        "# I can not share the labeled data."
      ],
      "execution_count": null,
      "outputs": []
    },
    {
      "cell_type": "code",
      "metadata": {
        "id": "56MYrnYgv9TF",
        "outputId": "6c8c3506-292b-453e-eb69-d01f1e1e0013",
        "colab": {
          "base_uri": "https://localhost:8080/",
          "height": 90
        }
      },
      "source": [
        "text[0:500]"
      ],
      "execution_count": null,
      "outputs": [
        {
          "output_type": "execute_result",
          "data": {
            "application/vnd.google.colaboratory.intrinsic+json": {
              "type": "string"
            },
            "text/plain": [
              "'Müzik Şenliği \\'ne hazırlanın  <b_enamexTYPE=\"ORGANIZATION\">POZİTİF ve Açık Radyo<e_enamex>  işbirliğiyle düzenlenecek olan  <b_enamexTYPE=\"LOCATION\">İstanbul<e_enamex>  Müzik Şenliği 2 , müzikseverlere Aralık ayında merhaba demeye hazırlanıyor\\nTek çatı altında dokuz ayrı salonda gerçekleştirilecek Şenlik kapsamında doksanın üzerinde etkinlik yer alacak\\nHalk müziğinden caza , klasik batı müziğinden klasik Türk müziğine , rock \\'tan etnik müziğe uzanan konserlerin yanı sıra , atölye çalışmaları , p'"
            ]
          },
          "metadata": {
            "tags": []
          },
          "execution_count": 18
        }
      ]
    },
    {
      "cell_type": "markdown",
      "metadata": {
        "id": "mMuISaabyqpE"
      },
      "source": [
        "- As we can see the sample of this data set, this corpus is actually tokenized and separated by spaces.\n",
        "- The labels are in HTML tag format. In order to capture the whole tag and the labeled tokens, we should remove the spaces inside the tags as in follows.\n",
        "   - `<b_enamex TYPE=` → `<b_enamexTYPE=`\n",
        "- We need to separate the document sentence by sentence due to set correct form of CONLL file. So we should read the file line by line."
      ]
    },
    {
      "cell_type": "code",
      "metadata": {
        "id": "ImEs_x6Kzp8H"
      },
      "source": [
        "with open(\"Turkish_NER_Tagged.txt\", \"r\", encoding=\"utf-8\") as file:\n",
        "    text_ln = file.readlines()"
      ],
      "execution_count": null,
      "outputs": []
    },
    {
      "cell_type": "code",
      "metadata": {
        "id": "eGYqFkhM4nDF",
        "outputId": "a05e3cb7-e781-42ed-c0a4-fc9d8f5d7852",
        "colab": {
          "base_uri": "https://localhost:8080/",
          "height": 35
        }
      },
      "source": [
        "len(text_ln)  # We have 27.556 sentences (lines)"
      ],
      "execution_count": null,
      "outputs": [
        {
          "output_type": "execute_result",
          "data": {
            "text/plain": [
              "27556"
            ]
          },
          "metadata": {
            "tags": []
          },
          "execution_count": 20
        }
      ]
    },
    {
      "cell_type": "code",
      "metadata": {
        "id": "MoBhuoEh4szM"
      },
      "source": [
        "text = [i.replace('<b_enamex TYPE=', '<b_enamexTYPE=') for i in text_ln]"
      ],
      "execution_count": null,
      "outputs": []
    },
    {
      "cell_type": "code",
      "metadata": {
        "id": "cDD1jNUI49fr",
        "outputId": "7b2fa409-b678-432f-d998-d07d25a9d0b7",
        "colab": {
          "base_uri": "https://localhost:8080/",
          "height": 219
        }
      },
      "source": [
        "text[0:10]"
      ],
      "execution_count": null,
      "outputs": [
        {
          "output_type": "execute_result",
          "data": {
            "text/plain": [
              "['Müzik Şenliği \\'ne hazırlanın  <b_enamexTYPE=\"ORGANIZATION\">POZİTİF ve Açık Radyo<e_enamex>  işbirliğiyle düzenlenecek olan  <b_enamexTYPE=\"LOCATION\">İstanbul<e_enamex>  Müzik Şenliği 2 , müzikseverlere Aralık ayında merhaba demeye hazırlanıyor\\n',\n",
              " 'Tek çatı altında dokuz ayrı salonda gerçekleştirilecek Şenlik kapsamında doksanın üzerinde etkinlik yer alacak\\n',\n",
              " \"Halk müziğinden caza , klasik batı müziğinden klasik Türk müziğine , rock 'tan etnik müziğe uzanan konserlerin yanı sıra , atölye çalışmaları , panel ve söyleşiler , çocuk etkinlikleri , CD ve kitap satışı gibi etkinlikler Şenlik 'i destekleyecek\\n\",\n",
              " 'Geçtiğimiz yıl ilki büyük heyecan yaratan , müzik ile ilgili her kesimden insanı tek bir çatı altında , keyifli bir ortamda buluşturmayı , müziği ve müzisyeni ön plana çıkarmayı , Türk müziğinin binbir tınısını dünyaya yayabilmek için gerekli ortamı yaratabilmeyi amaçlayan Şenlik yine  <b_enamexTYPE=\"LOCATION\">Askeri Müze ve Kültür Sitesi<e_enamex> \\'nde ağırlayacak konuklarını \\n',\n",
              " 'Bu yıl farklı olarak \" Buluşmalar \" başlığı altında Türk müzisyenlerin dünyanın çeşitli yörelerinden müzisyenlerle yapacakları çalışmalar ,  <b_enamexTYPE=\"LOCATION\">Anadolu<e_enamex> \\'nun dört bir köşesinden yöresel müzikler ve ustaları , Türk bestecilerinin daha önce yorumlanmamış eserlerinin dünya prömiyerleri ve özel projeler yer alıyor programda \\n',\n",
              " \"Ayrıntılı programın Ekim ayında açıklanacağı Şenlik 'le bağlantı kurmak isteyenler 0212 292 12 07 numaralı telefonu arayabilirler  \\n\",\n",
              " '<b_enamexTYPE=\"LOCATION\">VENEDİK<e_enamex>  Film Festivali , büyük finale heyecansız yaklaşıyor \\n',\n",
              " 'Altın Aslan için yarışan on dokuz film , yarışma dışı gösterimlerin ve  <b_enamexTYPE=\"PERSON\">Akira Kurosawa<e_enamex> \\'nın kaybının yarattığı üzüntünün gölgesinde kaldı \\n',\n",
              " 'Büyük ustaların yeni yapıtları ve sinemaya tutkuyla sarılan genç yönetmenlerin taze solukları yanı sıra İtalyan güzellerin geçidi yarışma heyecanını yatıştırdı \\n',\n",
              " '<b_enamexTYPE=\"PERSON\">Steven Spielberg<e_enamex> \\'ün \" Er  <b_enamexTYPE=\"PERSON\">Ryan<e_enamex> \\'ı Kurtarmak \" ,  <b_enamexTYPE=\"PERSON\">Peter Weir<e_enamex> \\'in \" The  <b_enamexTYPE=\"PERSON\">Truman<e_enamex> Show \" ,  <b_enamexTYPE=\"PERSON\">Stanley Kubrick<e_enamex> \\'in \" Eyes Wide Shut \\'ı ,  <b_enamexTYPE=\"PERSON\">Taviani<e_enamex>  Kardeşler \\'in \" Tu Ridi \" ,  <b_enamexTYPE=\"PERSON\">Woody Allen<e_enamex> \\'ın \" Celebrity \" gibi merakla beklenen filmleri basını yarışmadan daha fazla meşgul etti \\n']"
            ]
          },
          "metadata": {
            "tags": []
          },
          "execution_count": 43
        }
      ]
    },
    {
      "cell_type": "markdown",
      "metadata": {
        "id": "Ix35k0m8ztPj"
      },
      "source": [
        "- We will use NLU libray for creating the CONLL file to train our model."
      ]
    },
    {
      "cell_type": "code",
      "metadata": {
        "id": "6rflcSOzz6RO"
      },
      "source": [
        "pipe = nlu.load(\"tokenize\")"
      ],
      "execution_count": null,
      "outputs": []
    },
    {
      "cell_type": "code",
      "metadata": {
        "id": "r7dmwQ8e0A8N"
      },
      "source": [
        "df = pipe.predict(text, output_level=\"token\")\n",
        "# We need token columns in our DataFrame, so we set \"token\" for output level"
      ],
      "execution_count": null,
      "outputs": []
    },
    {
      "cell_type": "code",
      "metadata": {
        "id": "6Wi-1dVD0Bd0",
        "outputId": "b6758fac-dd83-464c-9439-7e09a62b3c34",
        "colab": {
          "base_uri": "https://localhost:8080/",
          "height": 437
        }
      },
      "source": [
        "df  # Great! We have 513216 tokens in \"token\" column and \n",
        "    # \"origin_index\" represents the sentences."
      ],
      "execution_count": null,
      "outputs": [
        {
          "output_type": "execute_result",
          "data": {
            "text/html": [
              "<div>\n",
              "<style scoped>\n",
              "    .dataframe tbody tr th:only-of-type {\n",
              "        vertical-align: middle;\n",
              "    }\n",
              "\n",
              "    .dataframe tbody tr th {\n",
              "        vertical-align: top;\n",
              "    }\n",
              "\n",
              "    .dataframe thead th {\n",
              "        text-align: right;\n",
              "    }\n",
              "</style>\n",
              "<table border=\"1\" class=\"dataframe\">\n",
              "  <thead>\n",
              "    <tr style=\"text-align: right;\">\n",
              "      <th></th>\n",
              "      <th>token</th>\n",
              "    </tr>\n",
              "    <tr>\n",
              "      <th>origin_index</th>\n",
              "      <th></th>\n",
              "    </tr>\n",
              "  </thead>\n",
              "  <tbody>\n",
              "    <tr>\n",
              "      <th>0</th>\n",
              "      <td>Müzik</td>\n",
              "    </tr>\n",
              "    <tr>\n",
              "      <th>0</th>\n",
              "      <td>Şenliği</td>\n",
              "    </tr>\n",
              "    <tr>\n",
              "      <th>0</th>\n",
              "      <td>'</td>\n",
              "    </tr>\n",
              "    <tr>\n",
              "      <th>0</th>\n",
              "      <td>ne</td>\n",
              "    </tr>\n",
              "    <tr>\n",
              "      <th>0</th>\n",
              "      <td>hazırlanın</td>\n",
              "    </tr>\n",
              "    <tr>\n",
              "      <th>...</th>\n",
              "      <td>...</td>\n",
              "    </tr>\n",
              "    <tr>\n",
              "      <th>27555</th>\n",
              "      <td>YANLIŞ</td>\n",
              "    </tr>\n",
              "    <tr>\n",
              "      <th>27555</th>\n",
              "      <td>giden</td>\n",
              "    </tr>\n",
              "    <tr>\n",
              "      <th>27555</th>\n",
              "      <td>bir</td>\n",
              "    </tr>\n",
              "    <tr>\n",
              "      <th>27555</th>\n",
              "      <td>şeyler</td>\n",
              "    </tr>\n",
              "    <tr>\n",
              "      <th>27555</th>\n",
              "      <td>var</td>\n",
              "    </tr>\n",
              "  </tbody>\n",
              "</table>\n",
              "<p>513216 rows × 1 columns</p>\n",
              "</div>"
            ],
            "text/plain": [
              "                   token\n",
              "origin_index            \n",
              "0                  Müzik\n",
              "0                Şenliği\n",
              "0                      '\n",
              "0                     ne\n",
              "0             hazırlanın\n",
              "...                  ...\n",
              "27555             YANLIŞ\n",
              "27555              giden\n",
              "27555                bir\n",
              "27555             şeyler\n",
              "27555                var\n",
              "\n",
              "[513216 rows x 1 columns]"
            ]
          },
          "metadata": {
            "tags": []
          },
          "execution_count": 36
        }
      ]
    },
    {
      "cell_type": "code",
      "metadata": {
        "id": "1lYLmtov0Afl"
      },
      "source": [
        "df[\"sent_id\"] = df.index  # We create a new column named \"sent_id\" to use later."
      ],
      "execution_count": null,
      "outputs": []
    },
    {
      "cell_type": "code",
      "metadata": {
        "id": "0-IBEhxD6Ryk"
      },
      "source": [
        "df.reset_index(drop = True, inplace = True)"
      ],
      "execution_count": null,
      "outputs": []
    },
    {
      "cell_type": "code",
      "metadata": {
        "id": "lMbw5OKc6f2B",
        "outputId": "730f0e8d-84b6-4428-aa67-6c3f5357aebd",
        "colab": {
          "base_uri": "https://localhost:8080/",
          "height": 407
        }
      },
      "source": [
        "df"
      ],
      "execution_count": null,
      "outputs": [
        {
          "output_type": "execute_result",
          "data": {
            "text/html": [
              "<div>\n",
              "<style scoped>\n",
              "    .dataframe tbody tr th:only-of-type {\n",
              "        vertical-align: middle;\n",
              "    }\n",
              "\n",
              "    .dataframe tbody tr th {\n",
              "        vertical-align: top;\n",
              "    }\n",
              "\n",
              "    .dataframe thead th {\n",
              "        text-align: right;\n",
              "    }\n",
              "</style>\n",
              "<table border=\"1\" class=\"dataframe\">\n",
              "  <thead>\n",
              "    <tr style=\"text-align: right;\">\n",
              "      <th></th>\n",
              "      <th>token</th>\n",
              "      <th>sent_id</th>\n",
              "    </tr>\n",
              "  </thead>\n",
              "  <tbody>\n",
              "    <tr>\n",
              "      <th>0</th>\n",
              "      <td>Müzik</td>\n",
              "      <td>0</td>\n",
              "    </tr>\n",
              "    <tr>\n",
              "      <th>1</th>\n",
              "      <td>Şenliği</td>\n",
              "      <td>0</td>\n",
              "    </tr>\n",
              "    <tr>\n",
              "      <th>2</th>\n",
              "      <td>'</td>\n",
              "      <td>0</td>\n",
              "    </tr>\n",
              "    <tr>\n",
              "      <th>3</th>\n",
              "      <td>ne</td>\n",
              "      <td>0</td>\n",
              "    </tr>\n",
              "    <tr>\n",
              "      <th>4</th>\n",
              "      <td>hazırlanın</td>\n",
              "      <td>0</td>\n",
              "    </tr>\n",
              "    <tr>\n",
              "      <th>...</th>\n",
              "      <td>...</td>\n",
              "      <td>...</td>\n",
              "    </tr>\n",
              "    <tr>\n",
              "      <th>513211</th>\n",
              "      <td>YANLIŞ</td>\n",
              "      <td>27555</td>\n",
              "    </tr>\n",
              "    <tr>\n",
              "      <th>513212</th>\n",
              "      <td>giden</td>\n",
              "      <td>27555</td>\n",
              "    </tr>\n",
              "    <tr>\n",
              "      <th>513213</th>\n",
              "      <td>bir</td>\n",
              "      <td>27555</td>\n",
              "    </tr>\n",
              "    <tr>\n",
              "      <th>513214</th>\n",
              "      <td>şeyler</td>\n",
              "      <td>27555</td>\n",
              "    </tr>\n",
              "    <tr>\n",
              "      <th>513215</th>\n",
              "      <td>var</td>\n",
              "      <td>27555</td>\n",
              "    </tr>\n",
              "  </tbody>\n",
              "</table>\n",
              "<p>513216 rows × 2 columns</p>\n",
              "</div>"
            ],
            "text/plain": [
              "             token  sent_id\n",
              "0            Müzik        0\n",
              "1          Şenliği        0\n",
              "2                '        0\n",
              "3               ne        0\n",
              "4       hazırlanın        0\n",
              "...            ...      ...\n",
              "513211      YANLIŞ    27555\n",
              "513212       giden    27555\n",
              "513213         bir    27555\n",
              "513214      şeyler    27555\n",
              "513215         var    27555\n",
              "\n",
              "[513216 rows x 2 columns]"
            ]
          },
          "metadata": {
            "tags": []
          },
          "execution_count": 39
        }
      ]
    },
    {
      "cell_type": "code",
      "metadata": {
        "id": "jr3FGkNv9hRs"
      },
      "source": [
        "df[\"ner\"] = \"O\"  # We create a new column to collect the ner labels"
      ],
      "execution_count": null,
      "outputs": []
    },
    {
      "cell_type": "markdown",
      "metadata": {
        "id": "I-6qMFqf-ZT8"
      },
      "source": [
        "- Let's start to extract and collect the ner labels into \"ner\" column."
      ]
    },
    {
      "cell_type": "code",
      "metadata": {
        "id": "2tJrztIzBVp0"
      },
      "source": [
        "count = 0\n",
        "for tok in df.token.values:\n",
        "\n",
        "    if ('<b_enamexTYPE=\"LOCATION\">'  in tok):\n",
        "        if ('<e_enamex>' in tok) : df.ner.iloc[count] = \"B-LOC\"\n",
        "        if ('<e_enamex>' not in tok) : df.ner.iloc[count] = \"BB-LOC\"\n",
        "    if ('<b_enamexTYPE=\"ORGANIZATION\">'  in tok):\n",
        "        if ('<e_enamex>' in tok): df.ner.iloc[count] = \"B-ORG\"\n",
        "        if ('<e_enamex>' not in tok): df.ner.iloc[count] = \"BB-ORG\"\n",
        "    if ('<b_enamexTYPE=\"PERSON\">'  in tok):\n",
        "        if ('<e_enamex>' in tok): df.ner.iloc[count] = \"B-PER\"\n",
        "        if ('<e_enamex>' not in tok): df.ner.iloc[count] = \"BB-PER\"\n",
        "    if ('<b_enamexTYPE=' not in tok) and ('<e_enamex>' in tok): \n",
        "        df.ner.iloc[count] = \"I-XXX\"\n",
        "\n",
        "    count+=1"
      ],
      "execution_count": null,
      "outputs": []
    },
    {
      "cell_type": "code",
      "metadata": {
        "id": "vv98O_bo9yUm",
        "outputId": "c8ffe56a-adae-428b-c411-4efa82193a27",
        "colab": {
          "base_uri": "https://localhost:8080/",
          "height": 407
        }
      },
      "source": [
        "df"
      ],
      "execution_count": null,
      "outputs": [
        {
          "output_type": "execute_result",
          "data": {
            "text/html": [
              "<div>\n",
              "<style scoped>\n",
              "    .dataframe tbody tr th:only-of-type {\n",
              "        vertical-align: middle;\n",
              "    }\n",
              "\n",
              "    .dataframe tbody tr th {\n",
              "        vertical-align: top;\n",
              "    }\n",
              "\n",
              "    .dataframe thead th {\n",
              "        text-align: right;\n",
              "    }\n",
              "</style>\n",
              "<table border=\"1\" class=\"dataframe\">\n",
              "  <thead>\n",
              "    <tr style=\"text-align: right;\">\n",
              "      <th></th>\n",
              "      <th>token</th>\n",
              "      <th>sent_id</th>\n",
              "      <th>ner</th>\n",
              "    </tr>\n",
              "  </thead>\n",
              "  <tbody>\n",
              "    <tr>\n",
              "      <th>0</th>\n",
              "      <td>Müzik</td>\n",
              "      <td>0</td>\n",
              "      <td>O</td>\n",
              "    </tr>\n",
              "    <tr>\n",
              "      <th>1</th>\n",
              "      <td>Şenliği</td>\n",
              "      <td>0</td>\n",
              "      <td>O</td>\n",
              "    </tr>\n",
              "    <tr>\n",
              "      <th>2</th>\n",
              "      <td>'</td>\n",
              "      <td>0</td>\n",
              "      <td>O</td>\n",
              "    </tr>\n",
              "    <tr>\n",
              "      <th>3</th>\n",
              "      <td>ne</td>\n",
              "      <td>0</td>\n",
              "      <td>O</td>\n",
              "    </tr>\n",
              "    <tr>\n",
              "      <th>4</th>\n",
              "      <td>hazırlanın</td>\n",
              "      <td>0</td>\n",
              "      <td>O</td>\n",
              "    </tr>\n",
              "    <tr>\n",
              "      <th>...</th>\n",
              "      <td>...</td>\n",
              "      <td>...</td>\n",
              "      <td>...</td>\n",
              "    </tr>\n",
              "    <tr>\n",
              "      <th>513211</th>\n",
              "      <td>YANLIŞ</td>\n",
              "      <td>27555</td>\n",
              "      <td>O</td>\n",
              "    </tr>\n",
              "    <tr>\n",
              "      <th>513212</th>\n",
              "      <td>giden</td>\n",
              "      <td>27555</td>\n",
              "      <td>O</td>\n",
              "    </tr>\n",
              "    <tr>\n",
              "      <th>513213</th>\n",
              "      <td>bir</td>\n",
              "      <td>27555</td>\n",
              "      <td>O</td>\n",
              "    </tr>\n",
              "    <tr>\n",
              "      <th>513214</th>\n",
              "      <td>şeyler</td>\n",
              "      <td>27555</td>\n",
              "      <td>O</td>\n",
              "    </tr>\n",
              "    <tr>\n",
              "      <th>513215</th>\n",
              "      <td>var</td>\n",
              "      <td>27555</td>\n",
              "      <td>O</td>\n",
              "    </tr>\n",
              "  </tbody>\n",
              "</table>\n",
              "<p>513216 rows × 3 columns</p>\n",
              "</div>"
            ],
            "text/plain": [
              "             token  sent_id ner\n",
              "0            Müzik        0   O\n",
              "1          Şenliği        0   O\n",
              "2                '        0   O\n",
              "3               ne        0   O\n",
              "4       hazırlanın        0   O\n",
              "...            ...      ...  ..\n",
              "513211      YANLIŞ    27555   O\n",
              "513212       giden    27555   O\n",
              "513213         bir    27555   O\n",
              "513214      şeyler    27555   O\n",
              "513215         var    27555   O\n",
              "\n",
              "[513216 rows x 3 columns]"
            ]
          },
          "metadata": {
            "tags": []
          },
          "execution_count": 45
        }
      ]
    },
    {
      "cell_type": "code",
      "metadata": {
        "id": "D04_udpTEfo8"
      },
      "source": [
        "for indx in range(len(df.ner.values)):\n",
        "\n",
        "    if df.ner.iloc[indx] == \"BB-PER\" : \n",
        "        count = 0\n",
        "        while df.ner.iloc[indx] != \"I-XXX\":\n",
        "            indx += 1\n",
        "            count += 1\n",
        "    \n",
        "        for i in range(indx, indx-count,-1):\n",
        "            df.ner.iloc[i] = \"I-PER\"\n",
        "\n",
        "    if df.ner.iloc[indx] == \"BB-ORG\" : \n",
        "        count = 0\n",
        "        while df.ner.iloc[indx] != \"I-XXX\":\n",
        "            indx += 1\n",
        "            count += 1\n",
        "    \n",
        "        for i in range(indx, indx-count,-1):\n",
        "            df.ner.iloc[i] = \"I-ORG\"\n",
        "\n",
        "    if df.ner.iloc[indx] == \"BB-LOC\" : \n",
        "        count = 0\n",
        "        while df.ner.iloc[indx] != \"I-XXX\":\n",
        "            indx += 1\n",
        "            count += 1\n",
        "    \n",
        "        for i in range(indx, indx-count,-1):\n",
        "            df.ner.iloc[i] = \"I-LOC\""
      ],
      "execution_count": null,
      "outputs": []
    },
    {
      "cell_type": "code",
      "metadata": {
        "id": "ocr693qPFBuq",
        "outputId": "49988b3f-4227-463e-b311-ae708d972467",
        "colab": {
          "base_uri": "https://localhost:8080/",
          "height": 407
        }
      },
      "source": [
        "df"
      ],
      "execution_count": null,
      "outputs": [
        {
          "output_type": "execute_result",
          "data": {
            "text/html": [
              "<div>\n",
              "<style scoped>\n",
              "    .dataframe tbody tr th:only-of-type {\n",
              "        vertical-align: middle;\n",
              "    }\n",
              "\n",
              "    .dataframe tbody tr th {\n",
              "        vertical-align: top;\n",
              "    }\n",
              "\n",
              "    .dataframe thead th {\n",
              "        text-align: right;\n",
              "    }\n",
              "</style>\n",
              "<table border=\"1\" class=\"dataframe\">\n",
              "  <thead>\n",
              "    <tr style=\"text-align: right;\">\n",
              "      <th></th>\n",
              "      <th>token</th>\n",
              "      <th>sent_id</th>\n",
              "      <th>ner</th>\n",
              "    </tr>\n",
              "  </thead>\n",
              "  <tbody>\n",
              "    <tr>\n",
              "      <th>0</th>\n",
              "      <td>Müzik</td>\n",
              "      <td>0</td>\n",
              "      <td>O</td>\n",
              "    </tr>\n",
              "    <tr>\n",
              "      <th>1</th>\n",
              "      <td>Şenliği</td>\n",
              "      <td>0</td>\n",
              "      <td>O</td>\n",
              "    </tr>\n",
              "    <tr>\n",
              "      <th>2</th>\n",
              "      <td>'</td>\n",
              "      <td>0</td>\n",
              "      <td>O</td>\n",
              "    </tr>\n",
              "    <tr>\n",
              "      <th>3</th>\n",
              "      <td>ne</td>\n",
              "      <td>0</td>\n",
              "      <td>O</td>\n",
              "    </tr>\n",
              "    <tr>\n",
              "      <th>4</th>\n",
              "      <td>hazırlanın</td>\n",
              "      <td>0</td>\n",
              "      <td>O</td>\n",
              "    </tr>\n",
              "    <tr>\n",
              "      <th>...</th>\n",
              "      <td>...</td>\n",
              "      <td>...</td>\n",
              "      <td>...</td>\n",
              "    </tr>\n",
              "    <tr>\n",
              "      <th>513211</th>\n",
              "      <td>YANLIŞ</td>\n",
              "      <td>27555</td>\n",
              "      <td>O</td>\n",
              "    </tr>\n",
              "    <tr>\n",
              "      <th>513212</th>\n",
              "      <td>giden</td>\n",
              "      <td>27555</td>\n",
              "      <td>O</td>\n",
              "    </tr>\n",
              "    <tr>\n",
              "      <th>513213</th>\n",
              "      <td>bir</td>\n",
              "      <td>27555</td>\n",
              "      <td>O</td>\n",
              "    </tr>\n",
              "    <tr>\n",
              "      <th>513214</th>\n",
              "      <td>şeyler</td>\n",
              "      <td>27555</td>\n",
              "      <td>O</td>\n",
              "    </tr>\n",
              "    <tr>\n",
              "      <th>513215</th>\n",
              "      <td>var</td>\n",
              "      <td>27555</td>\n",
              "      <td>O</td>\n",
              "    </tr>\n",
              "  </tbody>\n",
              "</table>\n",
              "<p>513216 rows × 3 columns</p>\n",
              "</div>"
            ],
            "text/plain": [
              "             token  sent_id ner\n",
              "0            Müzik        0   O\n",
              "1          Şenliği        0   O\n",
              "2                '        0   O\n",
              "3               ne        0   O\n",
              "4       hazırlanın        0   O\n",
              "...            ...      ...  ..\n",
              "513211      YANLIŞ    27555   O\n",
              "513212       giden    27555   O\n",
              "513213         bir    27555   O\n",
              "513214      şeyler    27555   O\n",
              "513215         var    27555   O\n",
              "\n",
              "[513216 rows x 3 columns]"
            ]
          },
          "metadata": {
            "tags": []
          },
          "execution_count": 63
        }
      ]
    },
    {
      "cell_type": "markdown",
      "metadata": {
        "id": "xYSc2Z-cFRKP"
      },
      "source": [
        "- It's time to get rid of the ner labels (HTML Tags) in \"token\" column."
      ]
    },
    {
      "cell_type": "code",
      "metadata": {
        "id": "qMMQUuA_Ow2I"
      },
      "source": [
        "rep_dic = {'<b_enamexTYPE=\"LOCATION\">':\"\", '<b_enamexTYPE=\"ORGANIZATION\">':\"\", '<b_enamexTYPE=\"PERSON\">':\"\", '<e_enamex>':\"\"}"
      ],
      "execution_count": null,
      "outputs": []
    },
    {
      "cell_type": "code",
      "metadata": {
        "id": "w4dDAWVNPHjh"
      },
      "source": [
        "df.replace({\"token\" : rep_dic, \"ner\" : {\"BB-\" : \"B-\"}}, regex=True, inplace=True)"
      ],
      "execution_count": null,
      "outputs": []
    },
    {
      "cell_type": "code",
      "metadata": {
        "id": "HHyHcYS2RGbG"
      },
      "source": [
        "df[\"pos1\"] = \"NN\"\n",
        "df[\"pos2\"] = \"NN\""
      ],
      "execution_count": null,
      "outputs": []
    },
    {
      "cell_type": "code",
      "metadata": {
        "id": "bg3XAihbR8GC"
      },
      "source": [
        "df = df[[\"token\", \"pos1\", \"pos2\", \"ner\", \"sent_id\"]]"
      ],
      "execution_count": null,
      "outputs": []
    },
    {
      "cell_type": "code",
      "metadata": {
        "id": "3tLu10DtGKtu",
        "outputId": "4ea7955e-300a-42be-fdff-7a1b80bf9d24",
        "colab": {
          "base_uri": "https://localhost:8080/",
          "height": 198
        }
      },
      "source": [
        "df.head()"
      ],
      "execution_count": null,
      "outputs": [
        {
          "output_type": "execute_result",
          "data": {
            "text/html": [
              "<div>\n",
              "<style scoped>\n",
              "    .dataframe tbody tr th:only-of-type {\n",
              "        vertical-align: middle;\n",
              "    }\n",
              "\n",
              "    .dataframe tbody tr th {\n",
              "        vertical-align: top;\n",
              "    }\n",
              "\n",
              "    .dataframe thead th {\n",
              "        text-align: right;\n",
              "    }\n",
              "</style>\n",
              "<table border=\"1\" class=\"dataframe\">\n",
              "  <thead>\n",
              "    <tr style=\"text-align: right;\">\n",
              "      <th></th>\n",
              "      <th>token</th>\n",
              "      <th>pos1</th>\n",
              "      <th>pos2</th>\n",
              "      <th>ner</th>\n",
              "      <th>sent_id</th>\n",
              "    </tr>\n",
              "  </thead>\n",
              "  <tbody>\n",
              "    <tr>\n",
              "      <th>0</th>\n",
              "      <td>Müzik</td>\n",
              "      <td>NN</td>\n",
              "      <td>NN</td>\n",
              "      <td>O</td>\n",
              "      <td>0</td>\n",
              "    </tr>\n",
              "    <tr>\n",
              "      <th>1</th>\n",
              "      <td>Şenliği</td>\n",
              "      <td>NN</td>\n",
              "      <td>NN</td>\n",
              "      <td>O</td>\n",
              "      <td>0</td>\n",
              "    </tr>\n",
              "    <tr>\n",
              "      <th>2</th>\n",
              "      <td>'</td>\n",
              "      <td>NN</td>\n",
              "      <td>NN</td>\n",
              "      <td>O</td>\n",
              "      <td>0</td>\n",
              "    </tr>\n",
              "    <tr>\n",
              "      <th>3</th>\n",
              "      <td>ne</td>\n",
              "      <td>NN</td>\n",
              "      <td>NN</td>\n",
              "      <td>O</td>\n",
              "      <td>0</td>\n",
              "    </tr>\n",
              "    <tr>\n",
              "      <th>4</th>\n",
              "      <td>hazırlanın</td>\n",
              "      <td>NN</td>\n",
              "      <td>NN</td>\n",
              "      <td>O</td>\n",
              "      <td>0</td>\n",
              "    </tr>\n",
              "  </tbody>\n",
              "</table>\n",
              "</div>"
            ],
            "text/plain": [
              "        token pos1 pos2 ner  sent_id\n",
              "0       Müzik   NN   NN   O        0\n",
              "1     Şenliği   NN   NN   O        0\n",
              "2           '   NN   NN   O        0\n",
              "3          ne   NN   NN   O        0\n",
              "4  hazırlanın   NN   NN   O        0"
            ]
          },
          "metadata": {
            "tags": []
          },
          "execution_count": 69
        }
      ]
    },
    {
      "cell_type": "markdown",
      "metadata": {
        "id": "kApRfhSSGRnl"
      },
      "source": [
        "- Now, we should put empty lines between each sentences to fit CONLL file format."
      ]
    },
    {
      "cell_type": "code",
      "metadata": {
        "id": "UYK_g4YtGQVC"
      },
      "source": [
        "df_dummy = pd.DataFrame()\n",
        "df_blank = pd.DataFrame({\"token\":[np.nan], \"pos1\":[np.nan], \"pos2\":[np.nan], \\\n",
        "                         \"ner\" : [np.nan], \"sent_id\":[np.nan]})\n",
        "\n",
        "for i in range(df.sent_id.nunique()):\n",
        "    df_part = df[df[\"sent_id\"] == i]\n",
        "    df_dummy = pd.concat([df_dummy, df_blank, df_part], ignore_index=True)"
      ],
      "execution_count": null,
      "outputs": []
    },
    {
      "cell_type": "code",
      "metadata": {
        "id": "OPMMGvzqII_r"
      },
      "source": [
        "df_conll = df_dummy[[\"token\",\"pos1\",\"pos2\",\"ner\"]]"
      ],
      "execution_count": null,
      "outputs": []
    },
    {
      "cell_type": "code",
      "metadata": {
        "id": "pHHKCTQkIYTS"
      },
      "source": [
        "df_conll.columns = [\"-DOCSTART-\", \"-X-\", \"-X-\", \"O\"]"
      ],
      "execution_count": null,
      "outputs": []
    },
    {
      "cell_type": "code",
      "metadata": {
        "id": "DJt-izdMIOeX",
        "outputId": "fd56d18b-bb8c-4bda-d973-60fbbeee7e4e",
        "colab": {
          "base_uri": "https://localhost:8080/",
          "height": 1000
        }
      },
      "source": [
        "df_conll.head(55)"
      ],
      "execution_count": null,
      "outputs": [
        {
          "output_type": "execute_result",
          "data": {
            "text/html": [
              "<div>\n",
              "<style scoped>\n",
              "    .dataframe tbody tr th:only-of-type {\n",
              "        vertical-align: middle;\n",
              "    }\n",
              "\n",
              "    .dataframe tbody tr th {\n",
              "        vertical-align: top;\n",
              "    }\n",
              "\n",
              "    .dataframe thead th {\n",
              "        text-align: right;\n",
              "    }\n",
              "</style>\n",
              "<table border=\"1\" class=\"dataframe\">\n",
              "  <thead>\n",
              "    <tr style=\"text-align: right;\">\n",
              "      <th></th>\n",
              "      <th>-DOCSTART-</th>\n",
              "      <th>-X-</th>\n",
              "      <th>-X-</th>\n",
              "      <th>O</th>\n",
              "    </tr>\n",
              "  </thead>\n",
              "  <tbody>\n",
              "    <tr>\n",
              "      <th>0</th>\n",
              "      <td>NaN</td>\n",
              "      <td>NaN</td>\n",
              "      <td>NaN</td>\n",
              "      <td>NaN</td>\n",
              "    </tr>\n",
              "    <tr>\n",
              "      <th>1</th>\n",
              "      <td>Müzik</td>\n",
              "      <td>NN</td>\n",
              "      <td>NN</td>\n",
              "      <td>O</td>\n",
              "    </tr>\n",
              "    <tr>\n",
              "      <th>2</th>\n",
              "      <td>Şenliği</td>\n",
              "      <td>NN</td>\n",
              "      <td>NN</td>\n",
              "      <td>O</td>\n",
              "    </tr>\n",
              "    <tr>\n",
              "      <th>3</th>\n",
              "      <td>'</td>\n",
              "      <td>NN</td>\n",
              "      <td>NN</td>\n",
              "      <td>O</td>\n",
              "    </tr>\n",
              "    <tr>\n",
              "      <th>4</th>\n",
              "      <td>ne</td>\n",
              "      <td>NN</td>\n",
              "      <td>NN</td>\n",
              "      <td>O</td>\n",
              "    </tr>\n",
              "    <tr>\n",
              "      <th>5</th>\n",
              "      <td>hazırlanın</td>\n",
              "      <td>NN</td>\n",
              "      <td>NN</td>\n",
              "      <td>O</td>\n",
              "    </tr>\n",
              "    <tr>\n",
              "      <th>6</th>\n",
              "      <td>POZİTİF</td>\n",
              "      <td>NN</td>\n",
              "      <td>NN</td>\n",
              "      <td>B-ORG</td>\n",
              "    </tr>\n",
              "    <tr>\n",
              "      <th>7</th>\n",
              "      <td>ve</td>\n",
              "      <td>NN</td>\n",
              "      <td>NN</td>\n",
              "      <td>I-ORG</td>\n",
              "    </tr>\n",
              "    <tr>\n",
              "      <th>8</th>\n",
              "      <td>Açık</td>\n",
              "      <td>NN</td>\n",
              "      <td>NN</td>\n",
              "      <td>I-ORG</td>\n",
              "    </tr>\n",
              "    <tr>\n",
              "      <th>9</th>\n",
              "      <td>Radyo</td>\n",
              "      <td>NN</td>\n",
              "      <td>NN</td>\n",
              "      <td>I-ORG</td>\n",
              "    </tr>\n",
              "    <tr>\n",
              "      <th>10</th>\n",
              "      <td>işbirliğiyle</td>\n",
              "      <td>NN</td>\n",
              "      <td>NN</td>\n",
              "      <td>O</td>\n",
              "    </tr>\n",
              "    <tr>\n",
              "      <th>11</th>\n",
              "      <td>düzenlenecek</td>\n",
              "      <td>NN</td>\n",
              "      <td>NN</td>\n",
              "      <td>O</td>\n",
              "    </tr>\n",
              "    <tr>\n",
              "      <th>12</th>\n",
              "      <td>olan</td>\n",
              "      <td>NN</td>\n",
              "      <td>NN</td>\n",
              "      <td>O</td>\n",
              "    </tr>\n",
              "    <tr>\n",
              "      <th>13</th>\n",
              "      <td>İstanbul</td>\n",
              "      <td>NN</td>\n",
              "      <td>NN</td>\n",
              "      <td>B-LOC</td>\n",
              "    </tr>\n",
              "    <tr>\n",
              "      <th>14</th>\n",
              "      <td>Müzik</td>\n",
              "      <td>NN</td>\n",
              "      <td>NN</td>\n",
              "      <td>O</td>\n",
              "    </tr>\n",
              "    <tr>\n",
              "      <th>15</th>\n",
              "      <td>Şenliği</td>\n",
              "      <td>NN</td>\n",
              "      <td>NN</td>\n",
              "      <td>O</td>\n",
              "    </tr>\n",
              "    <tr>\n",
              "      <th>16</th>\n",
              "      <td>2</td>\n",
              "      <td>NN</td>\n",
              "      <td>NN</td>\n",
              "      <td>O</td>\n",
              "    </tr>\n",
              "    <tr>\n",
              "      <th>17</th>\n",
              "      <td>,</td>\n",
              "      <td>NN</td>\n",
              "      <td>NN</td>\n",
              "      <td>O</td>\n",
              "    </tr>\n",
              "    <tr>\n",
              "      <th>18</th>\n",
              "      <td>müzikseverlere</td>\n",
              "      <td>NN</td>\n",
              "      <td>NN</td>\n",
              "      <td>O</td>\n",
              "    </tr>\n",
              "    <tr>\n",
              "      <th>19</th>\n",
              "      <td>Aralık</td>\n",
              "      <td>NN</td>\n",
              "      <td>NN</td>\n",
              "      <td>O</td>\n",
              "    </tr>\n",
              "    <tr>\n",
              "      <th>20</th>\n",
              "      <td>ayında</td>\n",
              "      <td>NN</td>\n",
              "      <td>NN</td>\n",
              "      <td>O</td>\n",
              "    </tr>\n",
              "    <tr>\n",
              "      <th>21</th>\n",
              "      <td>merhaba</td>\n",
              "      <td>NN</td>\n",
              "      <td>NN</td>\n",
              "      <td>O</td>\n",
              "    </tr>\n",
              "    <tr>\n",
              "      <th>22</th>\n",
              "      <td>demeye</td>\n",
              "      <td>NN</td>\n",
              "      <td>NN</td>\n",
              "      <td>O</td>\n",
              "    </tr>\n",
              "    <tr>\n",
              "      <th>23</th>\n",
              "      <td>hazırlanıyor</td>\n",
              "      <td>NN</td>\n",
              "      <td>NN</td>\n",
              "      <td>O</td>\n",
              "    </tr>\n",
              "    <tr>\n",
              "      <th>24</th>\n",
              "      <td>NaN</td>\n",
              "      <td>NaN</td>\n",
              "      <td>NaN</td>\n",
              "      <td>NaN</td>\n",
              "    </tr>\n",
              "    <tr>\n",
              "      <th>25</th>\n",
              "      <td>Tek</td>\n",
              "      <td>NN</td>\n",
              "      <td>NN</td>\n",
              "      <td>O</td>\n",
              "    </tr>\n",
              "    <tr>\n",
              "      <th>26</th>\n",
              "      <td>çatı</td>\n",
              "      <td>NN</td>\n",
              "      <td>NN</td>\n",
              "      <td>O</td>\n",
              "    </tr>\n",
              "    <tr>\n",
              "      <th>27</th>\n",
              "      <td>altında</td>\n",
              "      <td>NN</td>\n",
              "      <td>NN</td>\n",
              "      <td>O</td>\n",
              "    </tr>\n",
              "    <tr>\n",
              "      <th>28</th>\n",
              "      <td>dokuz</td>\n",
              "      <td>NN</td>\n",
              "      <td>NN</td>\n",
              "      <td>O</td>\n",
              "    </tr>\n",
              "    <tr>\n",
              "      <th>29</th>\n",
              "      <td>ayrı</td>\n",
              "      <td>NN</td>\n",
              "      <td>NN</td>\n",
              "      <td>O</td>\n",
              "    </tr>\n",
              "    <tr>\n",
              "      <th>30</th>\n",
              "      <td>salonda</td>\n",
              "      <td>NN</td>\n",
              "      <td>NN</td>\n",
              "      <td>O</td>\n",
              "    </tr>\n",
              "    <tr>\n",
              "      <th>31</th>\n",
              "      <td>gerçekleştirilecek</td>\n",
              "      <td>NN</td>\n",
              "      <td>NN</td>\n",
              "      <td>O</td>\n",
              "    </tr>\n",
              "    <tr>\n",
              "      <th>32</th>\n",
              "      <td>Şenlik</td>\n",
              "      <td>NN</td>\n",
              "      <td>NN</td>\n",
              "      <td>O</td>\n",
              "    </tr>\n",
              "    <tr>\n",
              "      <th>33</th>\n",
              "      <td>kapsamında</td>\n",
              "      <td>NN</td>\n",
              "      <td>NN</td>\n",
              "      <td>O</td>\n",
              "    </tr>\n",
              "    <tr>\n",
              "      <th>34</th>\n",
              "      <td>doksanın</td>\n",
              "      <td>NN</td>\n",
              "      <td>NN</td>\n",
              "      <td>O</td>\n",
              "    </tr>\n",
              "    <tr>\n",
              "      <th>35</th>\n",
              "      <td>üzerinde</td>\n",
              "      <td>NN</td>\n",
              "      <td>NN</td>\n",
              "      <td>O</td>\n",
              "    </tr>\n",
              "    <tr>\n",
              "      <th>36</th>\n",
              "      <td>etkinlik</td>\n",
              "      <td>NN</td>\n",
              "      <td>NN</td>\n",
              "      <td>O</td>\n",
              "    </tr>\n",
              "    <tr>\n",
              "      <th>37</th>\n",
              "      <td>yer</td>\n",
              "      <td>NN</td>\n",
              "      <td>NN</td>\n",
              "      <td>O</td>\n",
              "    </tr>\n",
              "    <tr>\n",
              "      <th>38</th>\n",
              "      <td>alacak</td>\n",
              "      <td>NN</td>\n",
              "      <td>NN</td>\n",
              "      <td>O</td>\n",
              "    </tr>\n",
              "    <tr>\n",
              "      <th>39</th>\n",
              "      <td>NaN</td>\n",
              "      <td>NaN</td>\n",
              "      <td>NaN</td>\n",
              "      <td>NaN</td>\n",
              "    </tr>\n",
              "    <tr>\n",
              "      <th>40</th>\n",
              "      <td>Halk</td>\n",
              "      <td>NN</td>\n",
              "      <td>NN</td>\n",
              "      <td>O</td>\n",
              "    </tr>\n",
              "    <tr>\n",
              "      <th>41</th>\n",
              "      <td>müziğinden</td>\n",
              "      <td>NN</td>\n",
              "      <td>NN</td>\n",
              "      <td>O</td>\n",
              "    </tr>\n",
              "    <tr>\n",
              "      <th>42</th>\n",
              "      <td>caza</td>\n",
              "      <td>NN</td>\n",
              "      <td>NN</td>\n",
              "      <td>O</td>\n",
              "    </tr>\n",
              "    <tr>\n",
              "      <th>43</th>\n",
              "      <td>,</td>\n",
              "      <td>NN</td>\n",
              "      <td>NN</td>\n",
              "      <td>O</td>\n",
              "    </tr>\n",
              "    <tr>\n",
              "      <th>44</th>\n",
              "      <td>klasik</td>\n",
              "      <td>NN</td>\n",
              "      <td>NN</td>\n",
              "      <td>O</td>\n",
              "    </tr>\n",
              "    <tr>\n",
              "      <th>45</th>\n",
              "      <td>batı</td>\n",
              "      <td>NN</td>\n",
              "      <td>NN</td>\n",
              "      <td>O</td>\n",
              "    </tr>\n",
              "    <tr>\n",
              "      <th>46</th>\n",
              "      <td>müziğinden</td>\n",
              "      <td>NN</td>\n",
              "      <td>NN</td>\n",
              "      <td>O</td>\n",
              "    </tr>\n",
              "    <tr>\n",
              "      <th>47</th>\n",
              "      <td>klasik</td>\n",
              "      <td>NN</td>\n",
              "      <td>NN</td>\n",
              "      <td>O</td>\n",
              "    </tr>\n",
              "    <tr>\n",
              "      <th>48</th>\n",
              "      <td>Türk</td>\n",
              "      <td>NN</td>\n",
              "      <td>NN</td>\n",
              "      <td>O</td>\n",
              "    </tr>\n",
              "    <tr>\n",
              "      <th>49</th>\n",
              "      <td>müziğine</td>\n",
              "      <td>NN</td>\n",
              "      <td>NN</td>\n",
              "      <td>O</td>\n",
              "    </tr>\n",
              "    <tr>\n",
              "      <th>50</th>\n",
              "      <td>,</td>\n",
              "      <td>NN</td>\n",
              "      <td>NN</td>\n",
              "      <td>O</td>\n",
              "    </tr>\n",
              "    <tr>\n",
              "      <th>51</th>\n",
              "      <td>rock</td>\n",
              "      <td>NN</td>\n",
              "      <td>NN</td>\n",
              "      <td>O</td>\n",
              "    </tr>\n",
              "    <tr>\n",
              "      <th>52</th>\n",
              "      <td>'</td>\n",
              "      <td>NN</td>\n",
              "      <td>NN</td>\n",
              "      <td>O</td>\n",
              "    </tr>\n",
              "    <tr>\n",
              "      <th>53</th>\n",
              "      <td>tan</td>\n",
              "      <td>NN</td>\n",
              "      <td>NN</td>\n",
              "      <td>O</td>\n",
              "    </tr>\n",
              "    <tr>\n",
              "      <th>54</th>\n",
              "      <td>etnik</td>\n",
              "      <td>NN</td>\n",
              "      <td>NN</td>\n",
              "      <td>O</td>\n",
              "    </tr>\n",
              "  </tbody>\n",
              "</table>\n",
              "</div>"
            ],
            "text/plain": [
              "            -DOCSTART-  -X-  -X-      O\n",
              "0                  NaN  NaN  NaN    NaN\n",
              "1                Müzik   NN   NN      O\n",
              "2              Şenliği   NN   NN      O\n",
              "3                    '   NN   NN      O\n",
              "4                   ne   NN   NN      O\n",
              "5           hazırlanın   NN   NN      O\n",
              "6              POZİTİF   NN   NN  B-ORG\n",
              "7                   ve   NN   NN  I-ORG\n",
              "8                 Açık   NN   NN  I-ORG\n",
              "9                Radyo   NN   NN  I-ORG\n",
              "10        işbirliğiyle   NN   NN      O\n",
              "11        düzenlenecek   NN   NN      O\n",
              "12                olan   NN   NN      O\n",
              "13            İstanbul   NN   NN  B-LOC\n",
              "14               Müzik   NN   NN      O\n",
              "15             Şenliği   NN   NN      O\n",
              "16                   2   NN   NN      O\n",
              "17                   ,   NN   NN      O\n",
              "18      müzikseverlere   NN   NN      O\n",
              "19              Aralık   NN   NN      O\n",
              "20              ayında   NN   NN      O\n",
              "21             merhaba   NN   NN      O\n",
              "22              demeye   NN   NN      O\n",
              "23        hazırlanıyor   NN   NN      O\n",
              "24                 NaN  NaN  NaN    NaN\n",
              "25                 Tek   NN   NN      O\n",
              "26                çatı   NN   NN      O\n",
              "27             altında   NN   NN      O\n",
              "28               dokuz   NN   NN      O\n",
              "29                ayrı   NN   NN      O\n",
              "30             salonda   NN   NN      O\n",
              "31  gerçekleştirilecek   NN   NN      O\n",
              "32              Şenlik   NN   NN      O\n",
              "33          kapsamında   NN   NN      O\n",
              "34            doksanın   NN   NN      O\n",
              "35            üzerinde   NN   NN      O\n",
              "36            etkinlik   NN   NN      O\n",
              "37                 yer   NN   NN      O\n",
              "38              alacak   NN   NN      O\n",
              "39                 NaN  NaN  NaN    NaN\n",
              "40                Halk   NN   NN      O\n",
              "41          müziğinden   NN   NN      O\n",
              "42                caza   NN   NN      O\n",
              "43                   ,   NN   NN      O\n",
              "44              klasik   NN   NN      O\n",
              "45                batı   NN   NN      O\n",
              "46          müziğinden   NN   NN      O\n",
              "47              klasik   NN   NN      O\n",
              "48                Türk   NN   NN      O\n",
              "49            müziğine   NN   NN      O\n",
              "50                   ,   NN   NN      O\n",
              "51                rock   NN   NN      O\n",
              "52                   '   NN   NN      O\n",
              "53                 tan   NN   NN      O\n",
              "54               etnik   NN   NN      O"
            ]
          },
          "metadata": {
            "tags": []
          },
          "execution_count": 75
        }
      ]
    },
    {
      "cell_type": "code",
      "metadata": {
        "id": "WKv-HZNcIglF"
      },
      "source": [
        " df_conll.to_csv(\"Turkish_NER.conll\", index=False, sep=\" \")\n",
        "\n",
        " # CONLL file is ready to use!.."
      ],
      "execution_count": null,
      "outputs": []
    },
    {
      "cell_type": "markdown",
      "metadata": {
        "id": "POF_OrEjIi0b"
      },
      "source": [
        "## Training Turkish Named Entity Recognition (NER) Model with Glove"
      ]
    },
    {
      "cell_type": "markdown",
      "metadata": {
        "id": "TwbqIuHFIwsU"
      },
      "source": [
        "- Finally we produced our CONLL file for use. Let's start to train our model using Multi Language ``GloVe Embeddings(\"glove_840B_300\")``"
      ]
    },
    {
      "cell_type": "code",
      "metadata": {
        "id": "PYFia4qvATyH"
      },
      "source": [
        "data = CoNLL().readDataset(spark, \"Turkish_NER.conll\")"
      ],
      "execution_count": null,
      "outputs": []
    },
    {
      "cell_type": "code",
      "metadata": {
        "id": "c4NJ4SmfvUE6",
        "outputId": "a17343f0-a94b-4935-a4f3-b69521396681",
        "colab": {
          "base_uri": "https://localhost:8080/",
          "height": 490
        }
      },
      "source": [
        "data.show()"
      ],
      "execution_count": null,
      "outputs": [
        {
          "output_type": "stream",
          "text": [
            "+--------------------+--------------------+--------------------+--------------------+--------------------+--------------------+\n",
            "|                text|            document|            sentence|               token|                 pos|               label|\n",
            "+--------------------+--------------------+--------------------+--------------------+--------------------+--------------------+\n",
            "|Müzik Şenliği ' n...|[[document, 0, 16...|[[document, 0, 16...|[[token, 0, 4, Mü...|[[pos, 0, 4, NN, ...|[[named_entity, 0...|\n",
            "|Tek çatı altında ...|[[document, 0, 10...|[[document, 0, 10...|[[token, 0, 2, Te...|[[pos, 0, 2, NN, ...|[[named_entity, 0...|\n",
            "|Halk müziğinden c...|[[document, 0, 24...|[[document, 0, 24...|[[token, 0, 3, Ha...|[[pos, 0, 3, NN, ...|[[named_entity, 0...|\n",
            "|Geçtiğimiz yıl il...|[[document, 0, 34...|[[document, 0, 34...|[[token, 0, 9, Ge...|[[pos, 0, 9, NN, ...|[[named_entity, 0...|\n",
            "|Bu yıl farklı ola...|[[document, 0, 32...|[[document, 0, 32...|[[token, 0, 1, Bu...|[[pos, 0, 1, NN, ...|[[named_entity, 0...|\n",
            "|Ayrıntılı program...|[[document, 0, 12...|[[document, 0, 12...|[[token, 0, 8, Ay...|[[pos, 0, 8, NN, ...|[[named_entity, 0...|\n",
            "|VENEDİK Film Fest...|[[document, 0, 58...|[[document, 0, 58...|[[token, 0, 6, VE...|[[pos, 0, 6, NN, ...|[[named_entity, 0...|\n",
            "|Altın Aslan için ...|[[document, 0, 13...|[[document, 0, 13...|[[token, 0, 4, Al...|[[pos, 0, 4, NN, ...|[[named_entity, 0...|\n",
            "|Büyük ustaların y...|[[document, 0, 15...|[[document, 0, 15...|[[token, 0, 4, Bü...|[[pos, 0, 4, NN, ...|[[named_entity, 0...|\n",
            "|Steven Spielberg ...|[[document, 0, 29...|[[document, 0, 29...|[[token, 0, 5, St...|[[pos, 0, 5, NN, ...|[[named_entity, 0...|\n",
            "|İtalyan sinemasın...|[[document, 0, 19...|[[document, 0, 19...|[[token, 0, 6, İt...|[[pos, 0, 6, NN, ...|[[named_entity, 0...|\n",
            "|Oysa bu yılki yar...|[[document, 0, 48...|[[document, 0, 48...|[[token, 0, 3, Oy...|[[pos, 0, 3, NN, ...|[[named_entity, 0...|\n",
            "|Yönetmenlerinden ...|[[document, 0, 49...|[[document, 0, 49...|[[token, 0, 15, Y...|[[pos, 0, 15, NN,...|[[named_entity, 0...|\n",
            "|\"\"\"\" Güney \"\"\"\" v...|[[document, 0, 12...|[[document, 0, 12...|[[token, 0, 3, \"\"...|[[pos, 0, 3, NN, ...|[[named_entity, 0...|\n",
            "|Anglosakson sinem...|[[document, 0, 64...|[[document, 0, 64...|[[token, 0, 10, A...|[[pos, 0, 10, NN,...|[[named_entity, 0...|\n",
            "|Kamera önündeki k...|[[document, 0, 28...|[[document, 0, 28...|[[token, 0, 5, Ka...|[[pos, 0, 5, NN, ...|[[named_entity, 0...|\n",
            "|İrlandalı Pat O'C...|[[document, 0, 15...|[[document, 0, 15...|[[token, 0, 8, İr...|[[pos, 0, 8, NN, ...|[[named_entity, 0...|\n",
            "|AKBANK 8 . Caz Fe...|[[document, 0, 13...|[[document, 0, 13...|[[token, 0, 5, AK...|[[pos, 0, 5, NN, ...|[[named_entity, 0...|\n",
            "|Festival ' in İst...|[[document, 0, 10...|[[document, 0, 10...|[[token, 0, 7, Fe...|[[pos, 0, 7, NN, ...|[[named_entity, 0...|\n",
            "|İstanbul konserle...|[[document, 0, 69...|[[document, 0, 69...|[[token, 0, 7, İs...|[[pos, 0, 7, NN, ...|[[named_entity, 0...|\n",
            "+--------------------+--------------------+--------------------+--------------------+--------------------+--------------------+\n",
            "only showing top 20 rows\n",
            "\n"
          ],
          "name": "stdout"
        }
      ]
    },
    {
      "cell_type": "code",
      "metadata": {
        "id": "CJicgp9kwPEm"
      },
      "source": [
        "train_data, test_data = data.randomSplit([0.8, 0.2], seed = 100)"
      ],
      "execution_count": null,
      "outputs": []
    },
    {
      "cell_type": "code",
      "metadata": {
        "id": "pVP6CnQPwnAC",
        "outputId": "58c2afbd-9486-4aaf-d69b-6957dd756a05",
        "colab": {
          "base_uri": "https://localhost:8080/",
          "height": 235
        }
      },
      "source": [
        "train_data.select(F.explode(F.arrays_zip('token.result','label.result')).alias(\"cols\")) \\\n",
        ".select(F.expr(\"cols['0']\").alias(\"token\"),\n",
        "        F.expr(\"cols['1']\").alias(\"ground_truth\")).groupBy('ground_truth').count().orderBy('count', ascending=False).show(100,truncate=False)"
      ],
      "execution_count": null,
      "outputs": [
        {
          "output_type": "stream",
          "text": [
            "+------------+------+\n",
            "|ground_truth|count |\n",
            "+------------+------+\n",
            "|O           |367645|\n",
            "|B-PER       |13017 |\n",
            "|B-LOC       |8732  |\n",
            "|B-ORG       |8076  |\n",
            "|I-PER       |6190  |\n",
            "|I-ORG       |5913  |\n",
            "|I-LOC       |1298  |\n",
            "+------------+------+\n",
            "\n"
          ],
          "name": "stdout"
        }
      ]
    },
    {
      "cell_type": "code",
      "metadata": {
        "id": "h0-ZoAvg7XMk",
        "outputId": "2b8db2b7-6c1f-40db-ab44-2f8e5bed1a80",
        "colab": {
          "base_uri": "https://localhost:8080/",
          "height": 72
        }
      },
      "source": [
        "glove_embeddings = WordEmbeddingsModel().pretrained('glove_840B_300','xx')\\\n",
        "  .setInputCols([\"document\",'token'])\\\n",
        "  .setOutputCol(\"embeddings\")\\\n",
        "  .setCaseSensitive(True)"
      ],
      "execution_count": null,
      "outputs": [
        {
          "output_type": "stream",
          "text": [
            "glove_840B_300 download started this may take some time.\n",
            "Approximate size to download 2.3 GB\n",
            "[OK!]\n"
          ],
          "name": "stdout"
        }
      ]
    },
    {
      "cell_type": "code",
      "metadata": {
        "id": "rpKKnzkvljU-"
      },
      "source": [
        "nerTagger = NerDLApproach()\\\n",
        "  .setInputCols([\"sentence\", \"token\", \"embeddings\"])\\\n",
        "  .setLabelColumn(\"label\")\\\n",
        "  .setOutputCol(\"ner\")\\\n",
        "  .setMaxEpochs(2)\\\n",
        "  .setLr(0.002)\\\n",
        "  .setPo(0.005)\\\n",
        "  .setBatchSize(16)\\\n",
        "  .setRandomSeed(0)\\\n",
        "  .setVerbose(1)\\\n",
        "  .setValidationSplit(0.2)\\\n",
        "  .setEvaluationLogExtended(True) \\\n",
        "  .setEnableOutputLogs(True)\\\n",
        "  .setIncludeConfidence(True)\\\n",
        "  .setOutputLogsPath('ner_logs')"
      ],
      "execution_count": null,
      "outputs": []
    },
    {
      "cell_type": "markdown",
      "metadata": {
        "id": "epPuCJUTpZzV"
      },
      "source": [
        "- Creating a NER training pipeline"
      ]
    },
    {
      "cell_type": "code",
      "metadata": {
        "id": "nD-EvxI1V8kE"
      },
      "source": [
        "ner_pipeline_glove = Pipeline(stages=[\n",
        "          glove_embeddings,\n",
        "          nerTagger\n",
        " ])"
      ],
      "execution_count": null,
      "outputs": []
    },
    {
      "cell_type": "code",
      "metadata": {
        "id": "ZdJbujPrfm8J"
      },
      "source": [
        "ner_model_glove = ner_pipeline_glove.fit(train_data)"
      ],
      "execution_count": null,
      "outputs": []
    },
    {
      "cell_type": "code",
      "metadata": {
        "id": "W4VQ7OVA5FDP"
      },
      "source": [
        "ner_model_glove.stages[1].write().overwrite().save(\"Tr_NER_Glove_20201019\")"
      ],
      "execution_count": null,
      "outputs": []
    },
    {
      "cell_type": "code",
      "metadata": {
        "id": "qzdNUh4-W1_X",
        "outputId": "6ff7e395-de8e-4d9b-dff6-56e5aef7f1ea",
        "colab": {
          "base_uri": "https://localhost:8080/",
          "height": 272
        }
      },
      "source": [
        "test_data = glove_embeddings.transform(test_data)\n",
        "\n",
        "predictions = ner_model_glove.transform(test_data)\n",
        "\n",
        "from sklearn.metrics import classification_report\n",
        "\n",
        "preds_df = predictions.select(F.explode(F.arrays_zip('token.result','label.result','ner.result')).alias(\"cols\")) \\\n",
        ".select(F.expr(\"cols['0']\").alias(\"token\"),\n",
        "        F.expr(\"cols['1']\").alias(\"ground_truth\"),\n",
        "        F.expr(\"cols['2']\").alias(\"prediction\")).toPandas()\n",
        "\n",
        "print (classification_report(preds_df['ground_truth'], preds_df['prediction'], digits=4))"
      ],
      "execution_count": null,
      "outputs": [
        {
          "output_type": "stream",
          "text": [
            "              precision    recall  f1-score   support\n",
            "\n",
            "       B-LOC     0.9103    0.8885    0.8993      3257\n",
            "       B-ORG     0.8668    0.9048    0.8854      2993\n",
            "       B-PER     0.9570    0.8717    0.9123      4722\n",
            "       I-LOC     0.7296    0.7732    0.7508       485\n",
            "       I-ORG     0.8068    0.8979    0.8499      2097\n",
            "       I-PER     0.9502    0.9119    0.9306      2258\n",
            "           O     0.9919    0.9933    0.9926    136668\n",
            "\n",
            "    accuracy                         0.9824    152480\n",
            "   macro avg     0.8875    0.8916    0.8887    152480\n",
            "weighted avg     0.9827    0.9824    0.9824    152480\n",
            "\n"
          ],
          "name": "stdout"
        }
      ]
    },
    {
      "cell_type": "markdown",
      "metadata": {
        "id": "TNOu97t7pzFY"
      },
      "source": [
        "## Let's make some predictions"
      ]
    },
    {
      "cell_type": "markdown",
      "metadata": {
        "id": "DzOQZgMBquB1"
      },
      "source": [
        "- First, creating prediction pipeline"
      ]
    },
    {
      "cell_type": "code",
      "metadata": {
        "id": "Ax02vaVngHSQ",
        "outputId": "2a466002-5c83-44ad-f3bf-84682387fb4c",
        "colab": {
          "base_uri": "https://localhost:8080/",
          "height": 72
        }
      },
      "source": [
        "document = DocumentAssembler()\\\n",
        "    .setInputCol(\"text\")\\\n",
        "    .setOutputCol(\"document\")\n",
        "\n",
        "sentence = SentenceDetector()\\\n",
        "    .setInputCols(['document'])\\\n",
        "    .setOutputCol('sentence')\n",
        "\n",
        "token = Tokenizer()\\\n",
        "    .setInputCols(['sentence'])\\\n",
        "    .setOutputCol('token')\n",
        "\n",
        "glove_embeddings = WordEmbeddingsModel().pretrained('glove_840B_300','xx')\\\n",
        "  .setInputCols([\"sentence\",'token'])\\\n",
        "  .setOutputCol(\"embeddings\")\\\n",
        "  .setCaseSensitive(True)\n",
        "    \n",
        "loaded_ner_model = NerDLModel.load(\"Tr_NER_Glove_20201019\")\\\n",
        " .setInputCols([\"sentence\", \"token\", \"embeddings\"])\\\n",
        " .setOutputCol(\"ner\")\n",
        "\n",
        "converter = NerConverter()\\\n",
        "  .setInputCols([\"document\", \"token\", \"ner\"])\\\n",
        "  .setOutputCol(\"ner_span\")\n",
        "\n",
        "ner_prediction_pipeline = Pipeline(\n",
        "    stages = [\n",
        "        document,\n",
        "        sentence,\n",
        "        token,\n",
        "        glove_embeddings,\n",
        "        loaded_ner_model,\n",
        "        converter])"
      ],
      "execution_count": null,
      "outputs": [
        {
          "output_type": "stream",
          "text": [
            "glove_840B_300 download started this may take some time.\n",
            "Approximate size to download 2.3 GB\n",
            "[OK!]\n"
          ],
          "name": "stdout"
        }
      ]
    },
    {
      "cell_type": "code",
      "metadata": {
        "id": "0V6K7tp_gLMz"
      },
      "source": [
        "empty_data = spark.createDataFrame([['']]).toDF(\"text\")\n",
        "\n",
        "prediction_model = ner_prediction_pipeline.fit(empty_data)"
      ],
      "execution_count": null,
      "outputs": []
    },
    {
      "cell_type": "code",
      "metadata": {
        "id": "SR6EvsvieF6e"
      },
      "source": [
        "prediction_model.transform(empty_data)"
      ],
      "execution_count": null,
      "outputs": []
    },
    {
      "cell_type": "markdown",
      "metadata": {
        "id": "eT1m9yuBrmrB"
      },
      "source": [
        "- We use `LightPipeline` to display the result of prediction easily. "
      ]
    },
    {
      "cell_type": "code",
      "metadata": {
        "id": "jK5F6tbY3XhW"
      },
      "source": [
        "from sparknlp.base import LightPipeline"
      ],
      "execution_count": null,
      "outputs": []
    },
    {
      "cell_type": "code",
      "metadata": {
        "id": "EUlrzFArgMHi"
      },
      "source": [
        "light_model = LightPipeline(prediction_model)"
      ],
      "execution_count": null,
      "outputs": []
    },
    {
      "cell_type": "markdown",
      "metadata": {
        "id": "lXD-j2RBtarm"
      },
      "source": [
        "- We will use `ner_highlighter` for better visualization."
      ]
    },
    {
      "cell_type": "code",
      "metadata": {
        "id": "4AjPKDsEf1da"
      },
      "source": [
        "!wget -q https://raw.githubusercontent.com/JohnSnowLabs/spark-nlp-workshop/master/tutorials/Certification_Trainings/Public/utils/ner_highlighter.py"
      ],
      "execution_count": null,
      "outputs": []
    },
    {
      "cell_type": "code",
      "metadata": {
        "id": "Ow_n6Z9fgJQd"
      },
      "source": [
        "import ner_highlighter"
      ],
      "execution_count": null,
      "outputs": []
    },
    {
      "cell_type": "markdown",
      "metadata": {
        "id": "Tdue_lebOZMe"
      },
      "source": [
        "## Samples of the results"
      ]
    },
    {
      "cell_type": "code",
      "metadata": {
        "id": "au_IU5vvhgTW"
      },
      "source": [
        "text = \"İlk defa Güneydoğu Anadolu bölgesinde düzenlenecek olan Uluslararası Nöroloji Kongresi başkanlığını, bu yıl Esra Günay üstlenecek.\""
      ],
      "execution_count": null,
      "outputs": []
    },
    {
      "cell_type": "code",
      "metadata": {
        "id": "piH306kPhUWb"
      },
      "source": [
        "text = \"Güzellikler Partisi İl Başkanlığı toplantısı bu yıl Ankara Çankaya merkezde icra edildi. Toplantı başkanlığını Ali Veli yürüttü.\""
      ],
      "execution_count": null,
      "outputs": []
    },
    {
      "cell_type": "code",
      "metadata": {
        "id": "gR0EAUeSh13j"
      },
      "source": [
        "text = \"Türkiye Futbol Federasyonu başkanı Nihat Özdemir, Kocaeli Gölcük'e doğru yola çıktı.\""
      ],
      "execution_count": null,
      "outputs": []
    },
    {
      "cell_type": "code",
      "metadata": {
        "id": "vowIo7RViKTx"
      },
      "source": [
        "text = \"Oğlum Kerem çok iyi bir çocuktur. İstanbul Kadıköy sahilinde yaşamaktadır. Kerem, Power FM Radyosu'nda çalışmaktadır.\""
      ],
      "execution_count": null,
      "outputs": []
    },
    {
      "cell_type": "code",
      "metadata": {
        "id": "tsKFipYAgq6D"
      },
      "source": [
        "result = light_model.fullAnnotate(text)[0]"
      ],
      "execution_count": null,
      "outputs": []
    },
    {
      "cell_type": "code",
      "metadata": {
        "id": "ca1QQgR8l8Kl",
        "outputId": "695e5426-4dfe-4f0f-cf5a-af9394d7992a",
        "colab": {
          "base_uri": "https://localhost:8080/",
          "height": 52
        }
      },
      "source": [
        "ner_highlighter.chunk_highlighter(result, entity_column=\"ner_span\")"
      ],
      "execution_count": null,
      "outputs": [
        {
          "output_type": "display_data",
          "data": {
            "text/html": [
              "<span class=\"tex2jax_ignore\"><div class=\"entities\" style=\"line-height: 2.5; direction: ltr\">Oğlum \n",
              "<mark class=\"entity\" style=\"background: #B8A8DB; padding: 0.45em 0.6em; margin: 0 0.25em; line-height: 1; border-radius: 0.35em;\">\n",
              "    Kerem\n",
              "    <span style=\"font-size: 0.8em; font-weight: bold; line-height: 1; border-radius: 0.35em; text-transform: uppercase; vertical-align: middle; margin-left: 0.5rem\">PER</span>\n",
              "</mark>\n",
              " çok iyi bir çocuktur. \n",
              "<mark class=\"entity\" style=\"background: #F0DFEA; padding: 0.45em 0.6em; margin: 0 0.25em; line-height: 1; border-radius: 0.35em;\">\n",
              "    İstanbul Kadıköy\n",
              "    <span style=\"font-size: 0.8em; font-weight: bold; line-height: 1; border-radius: 0.35em; text-transform: uppercase; vertical-align: middle; margin-left: 0.5rem\">LOC</span>\n",
              "</mark>\n",
              " sahilinde yaşamaktadır. \n",
              "<mark class=\"entity\" style=\"background: #B8A8DB; padding: 0.45em 0.6em; margin: 0 0.25em; line-height: 1; border-radius: 0.35em;\">\n",
              "    Kerem\n",
              "    <span style=\"font-size: 0.8em; font-weight: bold; line-height: 1; border-radius: 0.35em; text-transform: uppercase; vertical-align: middle; margin-left: 0.5rem\">PER</span>\n",
              "</mark>\n",
              ", \n",
              "<mark class=\"entity\" style=\"background: #D9A575; padding: 0.45em 0.6em; margin: 0 0.25em; line-height: 1; border-radius: 0.35em;\">\n",
              "    Power FM Radyosu'nda\n",
              "    <span style=\"font-size: 0.8em; font-weight: bold; line-height: 1; border-radius: 0.35em; text-transform: uppercase; vertical-align: middle; margin-left: 0.5rem\">ORG</span>\n",
              "</mark>\n",
              " çalışmaktadır.</div></span>"
            ],
            "text/plain": [
              "<IPython.core.display.HTML object>"
            ]
          },
          "metadata": {
            "tags": []
          }
        }
      ]
    },
    {
      "cell_type": "code",
      "metadata": {
        "id": "UmtdH3-8i3zG",
        "outputId": "2a7bb91a-2d7d-484d-a5bc-c8e3b2342a62",
        "colab": {
          "base_uri": "https://localhost:8080/",
          "height": 52
        }
      },
      "source": [
        "ner_highlighter.chunk_highlighter(result, entity_column=\"ner_span\")"
      ],
      "execution_count": null,
      "outputs": [
        {
          "output_type": "display_data",
          "data": {
            "text/html": [
              "<span class=\"tex2jax_ignore\"><div class=\"entities\" style=\"line-height: 2.5; direction: ltr\">İlk defa \n",
              "<mark class=\"entity\" style=\"background: #E96FC9; padding: 0.45em 0.6em; margin: 0 0.25em; line-height: 1; border-radius: 0.35em;\">\n",
              "    Güneydoğu Anadolu\n",
              "    <span style=\"font-size: 0.8em; font-weight: bold; line-height: 1; border-radius: 0.35em; text-transform: uppercase; vertical-align: middle; margin-left: 0.5rem\">LOC</span>\n",
              "</mark>\n",
              " bölgesinde düzenlenecek olan \n",
              "<mark class=\"entity\" style=\"background: #C28695; padding: 0.45em 0.6em; margin: 0 0.25em; line-height: 1; border-radius: 0.35em;\">\n",
              "    Uluslararası Nöroloji Kongresi\n",
              "    <span style=\"font-size: 0.8em; font-weight: bold; line-height: 1; border-radius: 0.35em; text-transform: uppercase; vertical-align: middle; margin-left: 0.5rem\">ORG</span>\n",
              "</mark>\n",
              " başkanlığını, bu yıl \n",
              "<mark class=\"entity\" style=\"background: #D1A484; padding: 0.45em 0.6em; margin: 0 0.25em; line-height: 1; border-radius: 0.35em;\">\n",
              "    Esra Günay\n",
              "    <span style=\"font-size: 0.8em; font-weight: bold; line-height: 1; border-radius: 0.35em; text-transform: uppercase; vertical-align: middle; margin-left: 0.5rem\">PER</span>\n",
              "</mark>\n",
              " üstlenecek.</div></span>"
            ],
            "text/plain": [
              "<IPython.core.display.HTML object>"
            ]
          },
          "metadata": {
            "tags": []
          }
        }
      ]
    },
    {
      "cell_type": "code",
      "metadata": {
        "id": "jOliTEBlgtpT",
        "outputId": "c1c72b80-1e2e-4add-98d0-bcac0ab6ae1b",
        "colab": {
          "base_uri": "https://localhost:8080/",
          "height": 52
        }
      },
      "source": [
        "ner_highlighter.chunk_highlighter(result, entity_column=\"ner_span\")"
      ],
      "execution_count": null,
      "outputs": [
        {
          "output_type": "display_data",
          "data": {
            "text/html": [
              "<span class=\"tex2jax_ignore\"><div class=\"entities\" style=\"line-height: 2.5; direction: ltr\">\n",
              "<mark class=\"entity\" style=\"background: #66AFB2; padding: 0.45em 0.6em; margin: 0 0.25em; line-height: 1; border-radius: 0.35em;\">\n",
              "    Türkiye Futbol Federasyonu\n",
              "    <span style=\"font-size: 0.8em; font-weight: bold; line-height: 1; border-radius: 0.35em; text-transform: uppercase; vertical-align: middle; margin-left: 0.5rem\">ORG</span>\n",
              "</mark>\n",
              " başkanı \n",
              "<mark class=\"entity\" style=\"background: #98A3EE; padding: 0.45em 0.6em; margin: 0 0.25em; line-height: 1; border-radius: 0.35em;\">\n",
              "    Nihat Özdemir\n",
              "    <span style=\"font-size: 0.8em; font-weight: bold; line-height: 1; border-radius: 0.35em; text-transform: uppercase; vertical-align: middle; margin-left: 0.5rem\">PER</span>\n",
              "</mark>\n",
              ", \n",
              "<mark class=\"entity\" style=\"background: #D8C575; padding: 0.45em 0.6em; margin: 0 0.25em; line-height: 1; border-radius: 0.35em;\">\n",
              "    Kocaeli Gölcük'e\n",
              "    <span style=\"font-size: 0.8em; font-weight: bold; line-height: 1; border-radius: 0.35em; text-transform: uppercase; vertical-align: middle; margin-left: 0.5rem\">LOC</span>\n",
              "</mark>\n",
              " doğru yola çıktı.</div></span>"
            ],
            "text/plain": [
              "<IPython.core.display.HTML object>"
            ]
          },
          "metadata": {
            "tags": []
          }
        }
      ]
    },
    {
      "cell_type": "code",
      "metadata": {
        "id": "FPq2Sjf1lRMf",
        "outputId": "730e6699-5c77-4caa-c3d4-b812e21ebeb2",
        "colab": {
          "base_uri": "https://localhost:8080/",
          "height": 52
        }
      },
      "source": [
        "ner_highlighter.chunk_highlighter(result, entity_column=\"ner_span\")"
      ],
      "execution_count": null,
      "outputs": [
        {
          "output_type": "display_data",
          "data": {
            "text/html": [
              "<span class=\"tex2jax_ignore\"><div class=\"entities\" style=\"line-height: 2.5; direction: ltr\">\n",
              "<mark class=\"entity\" style=\"background: #DFFA87; padding: 0.45em 0.6em; margin: 0 0.25em; line-height: 1; border-radius: 0.35em;\">\n",
              "    Güzellikler Partisi İl Başkanlığı\n",
              "    <span style=\"font-size: 0.8em; font-weight: bold; line-height: 1; border-radius: 0.35em; text-transform: uppercase; vertical-align: middle; margin-left: 0.5rem\">ORG</span>\n",
              "</mark>\n",
              " toplantısı bu yıl \n",
              "<mark class=\"entity\" style=\"background: #72DA87; padding: 0.45em 0.6em; margin: 0 0.25em; line-height: 1; border-radius: 0.35em;\">\n",
              "    Ankara Çankaya\n",
              "    <span style=\"font-size: 0.8em; font-weight: bold; line-height: 1; border-radius: 0.35em; text-transform: uppercase; vertical-align: middle; margin-left: 0.5rem\">LOC</span>\n",
              "</mark>\n",
              " merkezde icra edildi. Toplantı başkanlığını \n",
              "<mark class=\"entity\" style=\"background: #776AE8; padding: 0.45em 0.6em; margin: 0 0.25em; line-height: 1; border-radius: 0.35em;\">\n",
              "    Ali Veli\n",
              "    <span style=\"font-size: 0.8em; font-weight: bold; line-height: 1; border-radius: 0.35em; text-transform: uppercase; vertical-align: middle; margin-left: 0.5rem\">PER</span>\n",
              "</mark>\n",
              " yürüttü.</div></span>"
            ],
            "text/plain": [
              "<IPython.core.display.HTML object>"
            ]
          },
          "metadata": {
            "tags": []
          }
        }
      ]
    },
    {
      "cell_type": "markdown",
      "metadata": {
        "id": "rcIY4yZR48Kr"
      },
      "source": [
        "---"
      ]
    },
    {
      "cell_type": "markdown",
      "metadata": {
        "id": "1XjcCMJGx468"
      },
      "source": [
        "<p style=\"text-align: center;\"><img src=\"https://docs.google.com/uc?id=16ljQioOeX0IfcwGfMiJmP5LwXT22faIw\" class=\"img-fluid\" alt=\"sql\"></p>"
      ]
    },
    {
      "cell_type": "code",
      "metadata": {
        "id": "c1eNlFKeybJk"
      },
      "source": [
        ""
      ],
      "execution_count": null,
      "outputs": []
    }
  ]
}